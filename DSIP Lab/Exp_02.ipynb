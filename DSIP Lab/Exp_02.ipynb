{
  "nbformat": 4,
  "nbformat_minor": 0,
  "metadata": {
    "colab": {
      "name": "Exp2.ipynb",
      "provenance": [],
      "collapsed_sections": []
    },
    "kernelspec": {
      "display_name": "Python 3",
      "language": "python",
      "name": "python3"
    },
    "language_info": {
      "codemirror_mode": {
        "name": "ipython",
        "version": 3
      },
      "file_extension": ".py",
      "mimetype": "text/x-python",
      "name": "python",
      "nbconvert_exporter": "python",
      "pygments_lexer": "ipython3",
      "version": "3.6.6"
    }
  },
  "cells": [
    {
      "cell_type": "markdown",
      "metadata": {
        "id": "UCd_6jgXx-s6",
        "colab_type": "text"
      },
      "source": [
        "# **Experiment No:02**"
      ]
    },
    {
      "cell_type": "code",
      "metadata": {
        "colab_type": "code",
        "id": "fVd1JBQghwco",
        "colab": {}
      },
      "source": [
        "import numpy as np\n",
        "import matplotlib.pyplot as plt"
      ],
      "execution_count": 1,
      "outputs": []
    },
    {
      "cell_type": "code",
      "metadata": {
        "colab_type": "code",
        "id": "8JeSOV5Ribyk",
        "colab": {
          "base_uri": "https://localhost:8080/",
          "height": 34
        },
        "outputId": "c4e35c07-7ec4-4d22-b47e-1fa746c742f8"
      },
      "source": [
        "# Unit Impulse Sequence\n",
        "\n",
        "n=np.linspace(-5,5,11)\n",
        "print(n)"
      ],
      "execution_count": 2,
      "outputs": [
        {
          "output_type": "stream",
          "text": [
            "[-5. -4. -3. -2. -1.  0.  1.  2.  3.  4.  5.]\n"
          ],
          "name": "stdout"
        }
      ]
    },
    {
      "cell_type": "code",
      "metadata": {
        "colab_type": "code",
        "id": "MLxDuOlvisTm",
        "colab": {
          "base_uri": "https://localhost:8080/",
          "height": 34
        },
        "outputId": "804e13ef-b844-491d-fb06-330d979074ee"
      },
      "source": [
        "x=np.zeros_like(n)\n",
        "print(x)"
      ],
      "execution_count": 3,
      "outputs": [
        {
          "output_type": "stream",
          "text": [
            "[0. 0. 0. 0. 0. 0. 0. 0. 0. 0. 0.]\n"
          ],
          "name": "stdout"
        }
      ]
    },
    {
      "cell_type": "code",
      "metadata": {
        "colab_type": "code",
        "id": "DhnE9z78i6CA",
        "colab": {
          "base_uri": "https://localhost:8080/",
          "height": 34
        },
        "outputId": "4ab43357-7065-4982-bc96-ea0f6a0616cc"
      },
      "source": [
        "x[5]=1\n",
        "print(x)"
      ],
      "execution_count": 4,
      "outputs": [
        {
          "output_type": "stream",
          "text": [
            "[0. 0. 0. 0. 0. 1. 0. 0. 0. 0. 0.]\n"
          ],
          "name": "stdout"
        }
      ]
    },
    {
      "cell_type": "code",
      "metadata": {
        "colab_type": "code",
        "id": "Wt8j0RtAi-CP",
        "colab": {
          "base_uri": "https://localhost:8080/",
          "height": 312
        },
        "outputId": "4ed7a315-7dee-4131-c296-ffb0797d6750"
      },
      "source": [
        "plt.xlabel('n')\n",
        "plt.ylabel('x[n]')\n",
        "plt.title('Plot of Unit Sample Sequence')\n",
        "plt.stem(n,x,use_line_collection=True)"
      ],
      "execution_count": 5,
      "outputs": [
        {
          "output_type": "execute_result",
          "data": {
            "text/plain": [
              "<StemContainer object of 3 artists>"
            ]
          },
          "metadata": {
            "tags": []
          },
          "execution_count": 5
        },
        {
          "output_type": "display_data",
          "data": {
            "image/png": "[encoded data removed]",
            "text/plain": [
              "<Figure size 432x288 with 1 Axes>"
            ]
          },
          "metadata": {
            "tags": [],
            "needs_background": "light"
          }
        }
      ]
    },
    {
      "cell_type": "code",
      "metadata": {
        "colab_type": "code",
        "id": "0L8vcsqkjTfR",
        "colab": {
          "base_uri": "https://localhost:8080/",
          "height": 316
        },
        "outputId": "506e0c32-4220-471f-c563-ed2724af274c"
      },
      "source": [
        "# Unit Step Sequence\n",
        "\n",
        "x=np.linspace(-10,10,21)\n",
        "y=(x>=0)*1\n",
        "print(x)\n",
        "print(y)\n",
        "plt.stem(x,y,use_line_collection=True)\n",
        "plt.show()"
      ],
      "execution_count": 6,
      "outputs": [
        {
          "output_type": "stream",
          "text": [
            "[-10.  -9.  -8.  -7.  -6.  -5.  -4.  -3.  -2.  -1.   0.   1.   2.   3.\n",
            "   4.   5.   6.   7.   8.   9.  10.]\n",
            "[0 0 0 0 0 0 0 0 0 0 1 1 1 1 1 1 1 1 1 1 1]\n"
          ],
          "name": "stdout"
        },
        {
          "output_type": "display_data",
          "data": {
            "image/png": "[encoded data removed]",
            "text/plain": [
              "<Figure size 432x288 with 1 Axes>"
            ]
          },
          "metadata": {
            "tags": [],
            "needs_background": "light"
          }
        }
      ]
    },
    {
      "cell_type": "markdown",
      "metadata": {
        "id": "IoKo810myh9c",
        "colab_type": "text"
      },
      "source": [
        "# **Question - 1** : Unit Ramp Sequence"
      ]
    },
    {
      "cell_type": "code",
      "metadata": {
        "colab_type": "code",
        "id": "qiHFxgoGk4jD",
        "colab": {
          "base_uri": "https://localhost:8080/",
          "height": 333
        },
        "outputId": "15fa7d92-de66-45f3-e291-8fd70e6632da"
      },
      "source": [
        "\n",
        "x=np.linspace(-10,10,21)\n",
        "y=(x>=0)*x\n",
        "print(x)\n",
        "print(y)\n",
        "plt.stem(x,y,use_line_collection=True)\n",
        "plt.show()"
      ],
      "execution_count": 7,
      "outputs": [
        {
          "output_type": "stream",
          "text": [
            "[-10.  -9.  -8.  -7.  -6.  -5.  -4.  -3.  -2.  -1.   0.   1.   2.   3.\n",
            "   4.   5.   6.   7.   8.   9.  10.]\n",
            "[-0. -0. -0. -0. -0. -0. -0. -0. -0. -0.  0.  1.  2.  3.  4.  5.  6.  7.\n",
            "  8.  9. 10.]\n"
          ],
          "name": "stdout"
        },
        {
          "output_type": "display_data",
          "data": {
            "image/png": "[encoded data removed]",
            "text/plain": [
              "<Figure size 432x288 with 1 Axes>"
            ]
          },
          "metadata": {
            "tags": [],
            "needs_background": "light"
          }
        }
      ]
    },
    {
      "cell_type": "markdown",
      "metadata": {
        "id": "0ImZMu4vy9Y1",
        "colab_type": "text"
      },
      "source": [
        "#**Question - 2** : Sinusoidal Sequence"
      ]
    },
    {
      "cell_type": "code",
      "metadata": {
        "colab_type": "code",
        "id": "QDRPDf0JnYjr",
        "colab": {
          "base_uri": "https://localhost:8080/",
          "height": 312
        },
        "outputId": "1cf6c689-58f0-4a35-b356-4c8da18e104e"
      },
      "source": [
        "\n",
        "F0=0.1\n",
        "L=100\n",
        "n=np.arange(L)\n",
        "x=np.sin(2*np.pi*F0*n)\n",
        "plt.title('Discrete-time Sinusoidal Sequence of F0  =  0.1')\n",
        "plt.stem(n,x,use_line_collection=True)\n",
        "plt.xlabel('n')\n"
      ],
      "execution_count": 8,
      "outputs": [
        {
          "output_type": "execute_result",
          "data": {
            "text/plain": [
              "Text(0.5, 0, 'n')"
            ]
          },
          "metadata": {
            "tags": []
          },
          "execution_count": 8
        },
        {
          "output_type": "display_data",
          "data": {
            "image/png": "[encoded data removed]",
            "text/plain": [
              "<Figure size 432x288 with 1 Axes>"
            ]
          },
          "metadata": {
            "tags": [],
            "needs_background": "light"
          }
        }
      ]
    },
    {
      "cell_type": "code",
      "metadata": {
        "colab_type": "code",
        "id": "70gxn7mUpRsL",
        "colab": {
          "base_uri": "https://localhost:8080/",
          "height": 312
        },
        "outputId": "879f0000-72a7-4382-b7df-8608387a3f82"
      },
      "source": [
        "F0=0.125\n",
        "L=10*(1/F0) # Formula is N = 1 / F0\n",
        "n=np.arange(L)\n",
        "x=np.sin(2*np.pi*F0*n)\n",
        "plt.title('Discrete-time Sinusoidal Sequence of F0 = 0.125')\n",
        "plt.stem(n,x,use_line_collection=True)\n",
        "plt.xlabel('n')"
      ],
      "execution_count": 9,
      "outputs": [
        {
          "output_type": "execute_result",
          "data": {
            "text/plain": [
              "Text(0.5, 0, 'n')"
            ]
          },
          "metadata": {
            "tags": []
          },
          "execution_count": 9
        },
        {
          "output_type": "display_data",
          "data": {
            "image/png": "[encoded data removed]",
            "text/plain": [
              "<Figure size 432x288 with 1 Axes>"
            ]
          },
          "metadata": {
            "tags": [],
            "needs_background": "light"
          }
        }
      ]
    },
    {
      "cell_type": "markdown",
      "metadata": {
        "id": "3_F-GMQWyWhd",
        "colab_type": "text"
      },
      "source": [
        "# Question - 3 : Real Exponential Sequence"
      ]
    },
    {
      "cell_type": "code",
      "metadata": {
        "colab_type": "code",
        "id": "2JjxkRmzp3j4",
        "colab": {
          "base_uri": "https://localhost:8080/",
          "height": 401
        },
        "outputId": "2a279ce5-e4e7-4a42-f1a5-a17ceaec102e"
      },
      "source": [
        "# a > 1\n",
        "\n",
        "x=np.linspace(-5,5,21)\n",
        "# Say a==3\n",
        "\n",
        "a=3\n",
        "y=a**x\n",
        "print(x)\n",
        "print(y)\n",
        "plt.stem(x,y,use_line_collection=True)\n",
        "plt.show()"
      ],
      "execution_count": 10,
      "outputs": [
        {
          "output_type": "stream",
          "text": [
            "[-5.  -4.5 -4.  -3.5 -3.  -2.5 -2.  -1.5 -1.  -0.5  0.   0.5  1.   1.5\n",
            "  2.   2.5  3.   3.5  4.   4.5  5. ]\n",
            "[4.11522634e-03 7.12778110e-03 1.23456790e-02 2.13833433e-02\n",
            " 3.70370370e-02 6.41500299e-02 1.11111111e-01 1.92450090e-01\n",
            " 3.33333333e-01 5.77350269e-01 1.00000000e+00 1.73205081e+00\n",
            " 3.00000000e+00 5.19615242e+00 9.00000000e+00 1.55884573e+01\n",
            " 2.70000000e+01 4.67653718e+01 8.10000000e+01 1.40296115e+02\n",
            " 2.43000000e+02]\n"
          ],
          "name": "stdout"
        },
        {
          "output_type": "display_data",
          "data": {
            "image/png": "[encoded data removed]",
            "text/plain": [
              "<Figure size 432x288 with 1 Axes>"
            ]
          },
          "metadata": {
            "tags": [],
            "needs_background": "light"
          }
        }
      ]
    },
    {
      "cell_type": "code",
      "metadata": {
        "colab_type": "code",
        "id": "VCl54ZLet_to",
        "colab": {
          "base_uri": "https://localhost:8080/",
          "height": 401
        },
        "outputId": "30dc408a-0b07-466c-94e5-ed637240131e"
      },
      "source": [
        "# 0 < a < 1\n",
        "\n",
        "x=np.linspace(-5,5,21)\n",
        "# Say a==0.5\n",
        "a=0.5\n",
        "y=a**x\n",
        "print(x)\n",
        "print(y)\n",
        "plt.stem(x,y,use_line_collection=True)\n",
        "plt.show()"
      ],
      "execution_count": 11,
      "outputs": [
        {
          "output_type": "stream",
          "text": [
            "[-5.  -4.5 -4.  -3.5 -3.  -2.5 -2.  -1.5 -1.  -0.5  0.   0.5  1.   1.5\n",
            "  2.   2.5  3.   3.5  4.   4.5  5. ]\n",
            "[3.20000000e+01 2.26274170e+01 1.60000000e+01 1.13137085e+01\n",
            " 8.00000000e+00 5.65685425e+00 4.00000000e+00 2.82842712e+00\n",
            " 2.00000000e+00 1.41421356e+00 1.00000000e+00 7.07106781e-01\n",
            " 5.00000000e-01 3.53553391e-01 2.50000000e-01 1.76776695e-01\n",
            " 1.25000000e-01 8.83883476e-02 6.25000000e-02 4.41941738e-02\n",
            " 3.12500000e-02]\n"
          ],
          "name": "stdout"
        },
        {
          "output_type": "display_data",
          "data": {
            "image/png": "[encoded data removed]",
            "text/plain": [
              "<Figure size 432x288 with 1 Axes>"
            ]
          },
          "metadata": {
            "tags": [],
            "needs_background": "light"
          }
        }
      ]
    },
    {
      "cell_type": "code",
      "metadata": {
        "colab_type": "code",
        "id": "dh0c16fauT5-",
        "colab": {
          "base_uri": "https://localhost:8080/",
          "height": 401
        },
        "outputId": "ae6cab58-d45e-4df3-88b2-5e42da0ec092"
      },
      "source": [
        "# -1 < a < 0\n",
        "x=np.linspace(-5,5,21)\n",
        "#Say a == -0.5\n",
        "\n",
        "a=-0.5\n",
        "y=a**x\n",
        "print(x)\n",
        "print(y)\n",
        "plt.stem(x,y,use_line_collection=True)\n",
        "plt.show()"
      ],
      "execution_count": 12,
      "outputs": [
        {
          "output_type": "stream",
          "text": [
            "[-5.  -4.5 -4.  -3.5 -3.  -2.5 -2.  -1.5 -1.  -0.5  0.   0.5  1.   1.5\n",
            "  2.   2.5  3.   3.5  4.   4.5  5. ]\n",
            "[-3.200e+01        nan  1.600e+01        nan -8.000e+00        nan\n",
            "  4.000e+00        nan -2.000e+00        nan  1.000e+00        nan\n",
            " -5.000e-01        nan  2.500e-01        nan -1.250e-01        nan\n",
            "  6.250e-02        nan -3.125e-02]\n"
          ],
          "name": "stdout"
        },
        {
          "output_type": "stream",
          "text": [
            "/usr/local/lib/python3.6/dist-packages/ipykernel_launcher.py:6: RuntimeWarning: invalid value encountered in power\n",
            "  \n"
          ],
          "name": "stderr"
        },
        {
          "output_type": "display_data",
          "data": {
            "image/png": "[encoded data removed]",
            "text/plain": [
              "<Figure size 432x288 with 1 Axes>"
            ]
          },
          "metadata": {
            "tags": [],
            "needs_background": "light"
          }
        }
      ]
    },
    {
      "cell_type": "code",
      "metadata": {
        "colab_type": "code",
        "id": "h2Y_yGtducc8",
        "colab": {
          "base_uri": "https://localhost:8080/",
          "height": 435
        },
        "outputId": "aceb0bba-6b67-4b50-8f19-4315047c2c54"
      },
      "source": [
        "# a < -1\n",
        "x=np.linspace(-5,5,21)\n",
        "# Say a == -3\n",
        "\n",
        "a=-3\n",
        "y=a**x\n",
        "print(x)\n",
        "print(y)\n",
        "plt.stem(x,y,use_line_collection=True)\n",
        "plt.show()"
      ],
      "execution_count": 13,
      "outputs": [
        {
          "output_type": "stream",
          "text": [
            "[-5.  -4.5 -4.  -3.5 -3.  -2.5 -2.  -1.5 -1.  -0.5  0.   0.5  1.   1.5\n",
            "  2.   2.5  3.   3.5  4.   4.5  5. ]\n",
            "[-4.11522634e-03             nan  1.23456790e-02             nan\n",
            " -3.70370370e-02             nan  1.11111111e-01             nan\n",
            " -3.33333333e-01             nan  1.00000000e+00             nan\n",
            " -3.00000000e+00             nan  9.00000000e+00             nan\n",
            " -2.70000000e+01             nan  8.10000000e+01             nan\n",
            " -2.43000000e+02]\n"
          ],
          "name": "stdout"
        },
        {
          "output_type": "stream",
          "text": [
            "/usr/local/lib/python3.6/dist-packages/ipykernel_launcher.py:6: RuntimeWarning: invalid value encountered in power\n",
            "  \n"
          ],
          "name": "stderr"
        },
        {
          "output_type": "display_data",
          "data": {
            "image/png": "[encoded data removed]",
            "text/plain": [
              "<Figure size 432x288 with 1 Axes>"
            ]
          },
          "metadata": {
            "tags": [],
            "needs_background": "light"
          }
        }
      ]
    },
    {
      "cell_type": "code",
      "metadata": {
        "colab_type": "code",
        "id": "FdWfIx7Guf-_",
        "colab": {}
      },
      "source": [
        "# DONE"
      ],
      "execution_count": 14,
      "outputs": []
    }
  ]
}

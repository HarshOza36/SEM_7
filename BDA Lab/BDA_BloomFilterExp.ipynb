{
 "cells": [
  {
   "cell_type": "markdown",
   "metadata": {
    "id": "2sm02FuzKORj"
   },
   "source": [
    "## **Taking the inputs**"
   ]
  },
  {
   "cell_type": "markdown",
   "metadata": {
    "id": "qV_o3xDrMY4x"
   },
   "source": [
    "We will be using Stream Size of 11 and elements are 25,159,585,118,135,125"
   ]
  },
  {
   "cell_type": "code",
   "execution_count": 1,
   "metadata": {
    "colab": {
     "base_uri": "https://localhost:8080/",
     "height": 51
    },
    "id": "zpGZHuXXJ2GG",
    "outputId": "7e8010da-b8d3-493c-a0bc-5ace3d5e6306"
   },
   "outputs": [
    {
     "name": "stdout",
     "output_type": "stream",
     "text": [
      "Enter stream size >>> 11\n",
      "Enter the input elements ( Comma Separated ) >>> 25,159,585,118,135,125\n"
     ]
    }
   ],
   "source": [
    "N = int(input(\"Enter stream size >>> \"))\n",
    "inp = list(map(int, input(\"Enter the input elements ( Comma Separated ) >>> \").strip().split(',')))"
   ]
  },
  {
   "cell_type": "markdown",
   "metadata": {
    "id": "FTa7-j80KPTV"
   },
   "source": [
    "## **Creating the Hash Function**"
   ]
  },
  {
   "cell_type": "code",
   "execution_count": 2,
   "metadata": {
    "id": "vcrXxXzeKB4D"
   },
   "outputs": [],
   "source": [
    "h = lambda x: int(x, 2) % N"
   ]
  },
  {
   "cell_type": "markdown",
   "metadata": {
    "id": "qpvLdzefKFCk"
   },
   "source": [
    " ## **Creating the Bloom Filter**"
   ]
  },
  {
   "cell_type": "code",
   "execution_count": 3,
   "metadata": {
    "colab": {
     "base_uri": "https://localhost:8080/",
     "height": 34
    },
    "id": "teB4ttCcJ8gG",
    "outputId": "2a9f7429-34f1-4631-b247-f15451493b95"
   },
   "outputs": [
    {
     "data": {
      "text/plain": [
       "[0, 0, 0, 0, 0, 0, 0, 0, 0, 0, 0]"
      ]
     },
     "execution_count": 3,
     "metadata": {
      "tags": []
     },
     "output_type": "execute_result"
    }
   ],
   "source": [
    "bloom_array = [0]*N\n",
    "bloom_array"
   ]
  },
  {
   "cell_type": "code",
   "execution_count": 4,
   "metadata": {
    "colab": {
     "base_uri": "https://localhost:8080/",
     "height": 153
    },
    "id": "jG-nqodCJ8r6",
    "outputId": "1bad058d-b4c7-4a8b-8864-ba060a8cc6ee"
   },
   "outputs": [
    {
     "name": "stdout",
     "output_type": "stream",
     "text": [
      "  Element      Binary    Even    Odd  Absent/Present         Bloom_Filter\n",
      "---------  ----------  ------  -----  ---------------------  ---------------------------------\n",
      "       25       11001       2      5  Absent - Inserted      [0, 0, 1, 0, 0, 1, 0, 0, 0, 0, 0]\n",
      "      159    10011111       7      0  Absent - Inserted      [1, 0, 1, 0, 0, 1, 0, 1, 0, 0, 0]\n",
      "      585  1001001001       9      7  Absent - Inserted      [1, 0, 1, 0, 0, 1, 0, 1, 0, 1, 0]\n",
      "      118     1110110       5      3  Absent - Inserted      [1, 0, 1, 1, 0, 1, 0, 1, 0, 1, 0]\n",
      "      135    10000111       3      9  Present - NotInserted  [1, 0, 1, 1, 0, 1, 0, 1, 0, 1, 0]\n",
      "      125     1111101       6      4  Absent - Inserted      [1, 0, 1, 1, 1, 1, 1, 1, 0, 1, 0]\n"
     ]
    }
   ],
   "source": [
    "from tabulate import tabulate\n",
    "bfarr = []\n",
    "for i in inp:\n",
    "    # Converting element to binary.\n",
    "    bin_n = bin(i).replace(\"0b\", \"\")\n",
    "    # Even bits.\n",
    "    e = h(bin_n[1::2]) \n",
    "    # Odd bits.\n",
    "    o = h(bin_n[::2])  \n",
    "\n",
    "    # Checking if the element is Present so we dont insert.\n",
    "    if bloom_array[e] == 1 and bloom_array[o] == 1:\n",
    "        bloom_array_cp = bloom_array.copy()\n",
    "        bfarr.append([i, bin_n, e, o, \"Present - NotInserted\", bloom_array_cp])\n",
    "    # If the element is absent we insert it.\n",
    "    else: \n",
    "        bloom_array[e], bloom_array[o] = 1, 1\n",
    "        bloom_array_cp = bloom_array.copy()\n",
    "        bfarr.append([i, bin_n, e, o, \"Absent - Inserted\", bloom_array_cp])\n",
    "headings = [\"Element\", \"Binary\", \"Even\", \"Odd\", \"Absent/Present\", \"Bloom_Filter\"]        \n",
    "print(tabulate(bfarr,headers = headings))"
   ]
  },
  {
   "cell_type": "markdown",
   "metadata": {
    "id": "vskk1r2jWWbJ"
   },
   "source": [
    "## **Checking for False Positive using Quering**"
   ]
  },
  {
   "cell_type": "code",
   "execution_count": 5,
   "metadata": {
    "colab": {
     "base_uri": "https://localhost:8080/",
     "height": 102
    },
    "id": "wTtHjY0MNH35",
    "outputId": "14f90776-14d3-4959-f23d-91ed110ec1bc"
   },
   "outputs": [
    {
     "name": "stdout",
     "output_type": "stream",
     "text": [
      "  Element    Binary    Even    Odd  False Positive\n",
      "---------  --------  ------  -----  ----------------\n",
      "       25     11001       2      5  No\n",
      "       69   1000101       0      0  Yes\n",
      "      148  10010100       6      8  ------\n"
     ]
    }
   ],
   "source": [
    "# Say we insert [25,69,148]\n",
    "query_arr = [25,69,148]\n",
    "\n",
    "bfarr = []\n",
    "for i in query_arr:\n",
    "    # Converting element to binary.\n",
    "    bin_n = bin(i).replace(\"0b\", \"\")\n",
    "    # Even bits.\n",
    "    e = h(bin_n[1::2]) \n",
    "    # Odd bits.\n",
    "    o = h(bin_n[::2])  \n",
    "\n",
    "    # Checking if the element is Present so we dont insert.\n",
    "    if bloom_array[e] == 1 and bloom_array[o] == 1:\n",
    "        if (i in inp):\n",
    "          bfarr.append([i, bin_n, e, o, \"No\"])\n",
    "        else:  \n",
    "          bfarr.append([i, bin_n, e, o, \"Yes\"])\n",
    "    # If the element is absent we insert it.\n",
    "    else: \n",
    "        bfarr.append([i, bin_n, e, o, \"  ------  \"])\n",
    "headings = [\"Element\", \"Binary\", \"Even\", \"Odd\", \"False Positive\"]        \n",
    "print(tabulate(bfarr,headers = headings))\n"
   ]
  },
  {
   "cell_type": "code",
   "execution_count": null,
   "metadata": {
    "id": "3qbMuxeMXzQJ"
   },
   "outputs": [],
   "source": []
  }
 ],
 "metadata": {
  "colab": {
   "collapsed_sections": [],
   "name": "BDA_BloomFilterExp.ipynb",
   "provenance": []
  },
  "kernelspec": {
   "display_name": "Python 3",
   "language": "python",
   "name": "python3"
  },
  "language_info": {
   "codemirror_mode": {
    "name": "ipython",
    "version": 3
   },
   "file_extension": ".py",
   "mimetype": "text/x-python",
   "name": "python",
   "nbconvert_exporter": "python",
   "pygments_lexer": "ipython3",
   "version": "3.6.6"
  }
 },
 "nbformat": 4,
 "nbformat_minor": 1
}

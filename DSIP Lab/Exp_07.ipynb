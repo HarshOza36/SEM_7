{
 "cells": [
  {
   "cell_type": "markdown",
   "metadata": {
    "id": "ykWoJ69Fov_2"
   },
   "source": [
    "#Exp07: Fast Fourier Transform"
   ]
  },
  {
   "cell_type": "markdown",
   "metadata": {
    "id": "GlPOaA1OoxED"
   },
   "source": [
    "#Sample Program"
   ]
  },
  {
   "cell_type": "code",
   "execution_count": 1,
   "metadata": {
    "id": "k157Xhk9oUwd"
   },
   "outputs": [],
   "source": [
    "import numpy as np\n",
    "import scipy.fft"
   ]
  },
  {
   "cell_type": "markdown",
   "metadata": {
    "id": "pe01FDiZo3GG"
   },
   "source": [
    "# Fast Fourier Transform"
   ]
  },
  {
   "cell_type": "code",
   "execution_count": 2,
   "metadata": {
    "colab": {
     "base_uri": "https://localhost:8080/",
     "height": 54
    },
    "id": "PbubSxoGo5JU",
    "outputId": "b740fe66-b670-43cc-ec1a-540b345ded1c"
   },
   "outputs": [
    {
     "name": "stdout",
     "output_type": "stream",
     "text": [
      "[15. -0.j         -2.5+3.4409548j  -2.5+0.81229924j -2.5-0.81229924j\n",
      " -2.5-3.4409548j ]\n"
     ]
    }
   ],
   "source": [
    "x = np.array([1, 2, 3, 4, 5])\n",
    "fftx=scipy.fft.fft(x)\n",
    "print(fftx)"
   ]
  },
  {
   "cell_type": "markdown",
   "metadata": {
    "id": "u8F4Q08ipAGI"
   },
   "source": [
    "# Inverse DFT using FFT"
   ]
  },
  {
   "cell_type": "code",
   "execution_count": 3,
   "metadata": {
    "colab": {
     "base_uri": "https://localhost:8080/",
     "height": 35
    },
    "id": "y2N0Kt_lpBJ2",
    "outputId": "54c31d97-05ce-4ba7-c831-495f9fdec1c8"
   },
   "outputs": [
    {
     "name": "stdout",
     "output_type": "stream",
     "text": [
      "[1.+0.j 2.+0.j 3.+0.j 4.+0.j 5.+0.j]\n"
     ]
    }
   ],
   "source": [
    "x1=scipy.fft.ifft(fftx)\n",
    "print(x1)"
   ]
  },
  {
   "cell_type": "markdown",
   "metadata": {
    "id": "-pD2YL4dpFz7"
   },
   "source": [
    "#Programming Exercise 01\n"
   ]
  },
  {
   "cell_type": "markdown",
   "metadata": {
    "id": "oKbKl-4RpGMk"
   },
   "source": [
    "##Compute DFT of x(n) = {4,3,2,1} using FFT algorithm\n"
   ]
  },
  {
   "cell_type": "code",
   "execution_count": 4,
   "metadata": {
    "colab": {
     "base_uri": "https://localhost:8080/",
     "height": 35
    },
    "id": "HIkAtTG2pct3",
    "outputId": "cb5e7aa0-0ec9-4308-c20e-a20d0ccbaaed"
   },
   "outputs": [
    {
     "name": "stdout",
     "output_type": "stream",
     "text": [
      "[10.-0.j  2.-2.j  2.-0.j  2.+2.j]\n"
     ]
    }
   ],
   "source": [
    "x = np.array([4,3,2,1])\n",
    "fftx=scipy.fft.fft(x)\n",
    "print(fftx)"
   ]
  },
  {
   "cell_type": "markdown",
   "metadata": {
    "id": "RiG-qt_SpGjg"
   },
   "source": [
    "#Programming Exercise 02\n"
   ]
  },
  {
   "cell_type": "markdown",
   "metadata": {
    "id": "94n91LZopGZJ"
   },
   "source": [
    "##Compute DFT of x(n) = {5,6,7,8,1,2,3,4} using FFT algorithm\n"
   ]
  },
  {
   "cell_type": "code",
   "execution_count": 5,
   "metadata": {
    "colab": {
     "base_uri": "https://localhost:8080/",
     "height": 54
    },
    "id": "eQ-WiRZapdZn",
    "outputId": "e88e4776-4ff7-4abe-d511-09d406c55d06"
   },
   "outputs": [
    {
     "name": "stdout",
     "output_type": "stream",
     "text": [
      "[36.-0.j          4.-9.65685425j -4.+4.j          4.-1.65685425j\n",
      " -4.-0.j          4.+1.65685425j -4.-4.j          4.+9.65685425j]\n"
     ]
    }
   ],
   "source": [
    "x = np.array([5,6,7,8,1,2,3,4])\n",
    "fftx=scipy.fft.fft(x)\n",
    "print(fftx)"
   ]
  },
  {
   "cell_type": "markdown",
   "metadata": {
    "id": "9sEiN7E7pF8P"
   },
   "source": [
    "#Programming Exercise 03"
   ]
  },
  {
   "cell_type": "markdown",
   "metadata": {
    "id": "5tyUme1EpFtp"
   },
   "source": [
    "\n",
    "##Compute IDFT of [15 -2.5+3.44j -2.5+0.81j -2.5-0.81j -2.5-3.44j]"
   ]
  },
  {
   "cell_type": "code",
   "execution_count": 6,
   "metadata": {
    "colab": {
     "base_uri": "https://localhost:8080/",
     "height": 54
    },
    "id": "k4-uUWKspd-q",
    "outputId": "386346cd-6377-42e5-ba19-aafb8903c019"
   },
   "outputs": [
    {
     "name": "stdout",
     "output_type": "stream",
     "text": [
      "[1.        +0.j 2.00090381+0.j 2.9993498 +0.j 4.0006502 +0.j\n",
      " 4.99909619+0.j]\n"
     ]
    }
   ],
   "source": [
    "fftx=np.array([15 -0j, -2.5+3.44j ,-2.5+0.81j, -2.5-0.81j ,-2.5-3.44j])\n",
    "x1=scipy.fft.ifft(fftx)\n",
    "print(x1)"
   ]
  }
 ],
 "metadata": {
  "colab": {
   "name": "69_BECMPNA_Exp07_DSIP.ipynb",
   "provenance": []
  },
  "kernelspec": {
   "display_name": "Python 3",
   "language": "python",
   "name": "python3"
  },
  "language_info": {
   "codemirror_mode": {
    "name": "ipython",
    "version": 3
   },
   "file_extension": ".py",
   "mimetype": "text/x-python",
   "name": "python",
   "nbconvert_exporter": "python",
   "pygments_lexer": "ipython3",
   "version": "3.6.6"
  }
 },
 "nbformat": 4,
 "nbformat_minor": 1
}

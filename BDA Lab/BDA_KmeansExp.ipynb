{
 "cells": [
  {
   "cell_type": "markdown",
   "metadata": {},
   "source": [
    "# EXPERIMENT NO: 03 ---- KMEANS CLUSTERING\n"
   ]
  },
  {
   "cell_type": "markdown",
   "metadata": {},
   "source": [
    "## **THEORY**"
   ]
  },
  {
   "cell_type": "markdown",
   "metadata": {},
   "source": [
    "### 1. Mention the k-means algorithm\n",
    "**Clustering** is one of the most common exploratory data analysis technique used to get an intuition about the structure of the data. It can be defined as the task of identifying subgroups in the data such that data points in the same subgroup (cluster) are very similar while data points in different clusters are very different\n",
    "\n",
    "**Kmeans algorithm** is an iterative algorithm that tries to partition the dataset into Kpre-defined distinct non-overlapping subgroups (clusters) where each data point belongs to only one group. It tries to make the intra-cluster data points as similar as possible while also keeping the clusters as different (far) as possible. It assigns data points to a cluster such that the sum of the squared distance between the data points and the cluster’s centroid (arithmetic mean of all the data points that belong to that cluster) is at the minimum. The less variation we have within clusters, the more homogeneous (similar) the data points are within the same cluster.\n",
    "\n",
    "**The way kmeans algorithm works is as follows:**\n",
    "\n",
    "1.Specify number of clusters K.\n",
    "\n",
    "2.Initialize centroids by first shuffling the dataset and then randomly selecting K data points for the centroids without replacement.\n",
    "\n",
    "3.Keep iterating until there is no change to the centroids. i.e assignment of data points to clusters isn’t changing.\n",
    "- Compute the sum of the squared distance between data points and all centroids.\n",
    "- Assign each data point to the closest cluster (centroid).\n",
    "- Compute the centroids for the clusters by taking the average of the all data points that belong to each cluster.\n",
    "\n",
    "**Example of Clusters and its centers**\n",
    "\n",
    "<img src = \"https://miro.medium.com/max/396/1*dLrogayyf5UaLXD_8cmzpw.png\" alt =\"Kmeans Example\">"
   ]
  },
  {
   "cell_type": "markdown",
   "metadata": {},
   "source": [
    "### 2. How is pyspark used in the formation of clusters?\n",
    "\n",
    "Apache Spark is a cluster computing system with many application areas including structured data processing, machine learning, and graph processing. \n",
    "\n",
    "Using Pyspark we can create a Rdd. On that Rdd, we can takeSamples for centroids and we can apply the kmeans algorithm on it.\n",
    "\n",
    "Number of clusters, k, is defined in advance. The centers of clusters and the data points in each cluster are adjusted via an iterative algorithm to finally define k clusters. There is an underlying cost minimization objective where the cost function is so-called Within-Cluster Sum of Squares (WCSS).\n",
    "\n",
    "Spark MLlib library provides an implementation for K-means clustering."
   ]
  },
  {
   "cell_type": "markdown",
   "metadata": {},
   "source": [
    "## **IMPLEMENTATION**"
   ]
  },
  {
   "cell_type": "code",
   "execution_count": 1,
   "metadata": {},
   "outputs": [],
   "source": [
    "from __future__ import print_function\n",
    "import sys\n",
    "import numpy as np\n",
    "from pyspark.sql import SparkSession"
   ]
  },
  {
   "cell_type": "code",
   "execution_count": 2,
   "metadata": {},
   "outputs": [],
   "source": [
    "def parseVector(line):\n",
    "    return np.array([float(x) for x in line.split(' ')])"
   ]
  },
  {
   "cell_type": "code",
   "execution_count": 3,
   "metadata": {},
   "outputs": [],
   "source": [
    "# Code used to generate Data\n",
    "# import random\n",
    "# for i in range(30):\n",
    "#     with open(\"kmeans.txt\",\"a+\") as f:\n",
    "#         f.write( str(random.uniform(0,10)) +\" \"+ str(random.uniform(0,10))+\"\\n\")\n",
    "#         f.close()"
   ]
  },
  {
   "cell_type": "code",
   "execution_count": 4,
   "metadata": {},
   "outputs": [],
   "source": [
    "def closestPoint(p, centers):\n",
    "    bestIndex = 0\n",
    "    closest = float(\"+inf\")\n",
    "    for i in range(len(centers)):\n",
    "        tempDist = np.sum((p - centers[i]) ** 2)\n",
    "        if tempDist < closest:\n",
    "            closest = tempDist\n",
    "            bestIndex = i\n",
    "    return bestIndex"
   ]
  },
  {
   "cell_type": "code",
   "execution_count": 5,
   "metadata": {
    "scrolled": true
   },
   "outputs": [],
   "source": [
    "spark = SparkSession\\\n",
    "    .builder\\\n",
    "    .appName(\"PythonKMeans\")\\\n",
    "    .getOrCreate()"
   ]
  },
  {
   "cell_type": "code",
   "execution_count": 6,
   "metadata": {},
   "outputs": [
    {
     "name": "stdout",
     "output_type": "stream",
     "text": [
      "[array([9.08252447, 7.12390287]), array([9.33817812, 6.71793837]), array([0.01933314, 2.96684167]), array([7.57000166, 2.58287434]), array([1.70282924, 7.87202264]), array([2.39969822, 1.82435878]), array([4.06604017, 9.02306186]), array([8.69574466, 4.47057342]), array([5.40661369, 7.83456904]), array([1.67240597, 3.25608017]), array([1.44058591, 1.94428684]), array([0.81741122, 8.8801701 ]), array([2.69594823, 6.15924369]), array([6.27848157, 8.4410247 ]), array([3.67420366, 6.93338035]), array([3.50520283, 9.80406601]), array([4.59580223, 2.61772693]), array([6.43876655, 7.96249263]), array([9.91214714, 2.77336834]), array([2.7730827, 0.3764207]), array([2.76707781, 7.80534693]), array([5.32984029, 2.52836244]), array([9.89334113, 1.74211155]), array([3.99531476, 3.17221429]), array([7.7022596, 3.3354966]), array([2.020522  , 1.55985086]), array([8.69632327, 1.78274322]), array([2.50724855, 6.62596412]), array([1.71573307, 7.57173923]), array([2.29760227, 0.87786019])]\n"
     ]
    }
   ],
   "source": [
    "lines = spark.read.text(\"kmeans.txt\").rdd.map(lambda r: r[0])\n",
    "data = lines.map(parseVector).cache()\n",
    "    \n",
    "# print(data.take(100))\n",
    "print(data.collect())\n",
    "d = data.collect()"
   ]
  },
  {
   "cell_type": "code",
   "execution_count": 7,
   "metadata": {},
   "outputs": [],
   "source": [
    "import matplotlib.pyplot as plt\n",
    "%matplotlib inline\n",
    "\n",
    "# To Plot Data\n",
    "def plot(centroids,data):\n",
    "    for i, pts in data:\n",
    "        x,y = [],[]\n",
    "        for pt in pts:\n",
    "            x.append(pt[0][0])\n",
    "            y.append(pt[0][1])\n",
    "        plt.scatter(x,y)\n",
    "    for pts in centroids:\n",
    "        plt.scatter(pts[0],pts[1], marker=\"*\", color='red', linewidth=2)\n",
    "    plt.show()"
   ]
  },
  {
   "cell_type": "code",
   "execution_count": 9,
   "metadata": {
    "scrolled": false
   },
   "outputs": [
    {
     "name": "stdout",
     "output_type": "stream",
     "text": [
      "K = 1\n",
      "Centroids are : [array([4.63367547, 4.88553643])]\n"
     ]
    },
    {
     "data": {
      "image/png": "[encoded data removed]",
      "text/plain": [
       "<Figure size 432x288 with 1 Axes>"
      ]
     },
     "metadata": {
      "needs_background": "light"
     },
     "output_type": "display_data"
    },
    {
     "name": "stdout",
     "output_type": "stream",
     "text": [
      "K = 2\n",
      "Centroids are : [array([4.28544708, 7.76820875]), array([4.93837531, 2.36319815])]\n"
     ]
    },
    {
     "data": {
      "image/png": "[encoded data removed]",
      "text/plain": [
       "<Figure size 432x288 with 1 Axes>"
      ]
     },
     "metadata": {
      "needs_background": "light"
     },
     "output_type": "display_data"
    },
    {
     "name": "stdout",
     "output_type": "stream",
     "text": [
      "K = 3\n",
      "Centroids are : [array([8.86131501, 3.81612609]), array([3.46462972, 7.90942344]), array([2.65441875, 2.11240029])]\n"
     ]
    },
    {
     "data": {
      "image/png": "[encoded data removed]",
      "text/plain": [
       "<Figure size 432x288 with 1 Axes>"
      ]
     },
     "metadata": {
      "needs_background": "light"
     },
     "output_type": "display_data"
    },
    {
     "name": "stdout",
     "output_type": "stream",
     "text": [
      "K = 4\n",
      "Centroids are : [array([4.64031909, 2.77276789]), array([3.46462972, 7.90942344]), array([1.8033186, 1.8293856]), array([8.86131501, 3.81612609])]\n"
     ]
    },
    {
     "data": {
      "image/png": "[encoded data removed]",
      "text/plain": [
       "<Figure size 432x288 with 1 Axes>"
      ]
     },
     "metadata": {
      "needs_background": "light"
     },
     "output_type": "display_data"
    },
    {
     "name": "stdout",
     "output_type": "stream",
     "text": [
      "K = 5\n",
      "Centroids are : [array([9.03881575, 6.10413822]), array([3.46462972, 7.90942344]), array([1.8033186, 1.8293856]), array([8.75481456, 2.44331881]), array([4.64031909, 2.77276789])]\n"
     ]
    },
    {
     "data": {
      "image/png": "[encoded data removed]",
      "text/plain": [
       "<Figure size 432x288 with 1 Axes>"
      ]
     },
     "metadata": {
      "needs_background": "light"
     },
     "output_type": "display_data"
    }
   ],
   "source": [
    "def kmeans(data,k,iters):\n",
    "    kPoints = data.takeSample(False, k, 42)\n",
    "    for i in range(iters+1):\n",
    "        closest = data.map(lambda p: (closestPoint(p, kPoints), (p, 1)))\n",
    "        pointStats = closest.reduceByKey(lambda pc1, pc2: (pc1[0] + pc2[0], pc1[1] + pc2[1]))\n",
    "        newPoints = pointStats.map(lambda st: (st[0], st[1][0] / st[1][1])).collect()\n",
    "        tempDist = sum(np.sum((kPoints[iK] - p) ** 2) for (iK, p) in newPoints)\n",
    "\n",
    "        if(tempDist == 0):\n",
    "            break\n",
    "            \n",
    "        for (iK, p) in newPoints:\n",
    "            kPoints[iK] = p\n",
    "    print(\"K = {}\".format(k))\n",
    "    print(\"Centroids are : {}\".format(kPoints))\n",
    "    plot(kPoints,closest.groupByKey().collect())\n",
    "    return kPoints\n",
    "\n",
    "centers = []\n",
    "\n",
    "# Running Kmeans 5 times\n",
    "for i in range(1,6):\n",
    "    centers.append(kmeans(data,i,10))"
   ]
  },
  {
   "cell_type": "code",
   "execution_count": 10,
   "metadata": {},
   "outputs": [],
   "source": [
    "spark.stop()"
   ]
  }
 ],
 "metadata": {
  "kernelspec": {
   "display_name": "Python 3",
   "language": "python",
   "name": "python3"
  },
  "language_info": {
   "codemirror_mode": {
    "name": "ipython",
    "version": 3
   },
   "file_extension": ".py",
   "mimetype": "text/x-python",
   "name": "python",
   "nbconvert_exporter": "python",
   "pygments_lexer": "ipython3",
   "version": "3.6.6"
  }
 },
 "nbformat": 4,
 "nbformat_minor": 2
}

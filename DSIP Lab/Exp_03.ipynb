{
 "cells": [
  {
   "cell_type": "markdown",
   "metadata": {
    "id": "3Wk8wvaM5GhO"
   },
   "source": [
    "# Exp 03: Operations on signals"
   ]
  },
  {
   "cell_type": "code",
   "execution_count": 1,
   "metadata": {
    "id": "yrs2GrwK41wl"
   },
   "outputs": [],
   "source": [
    "import numpy as np\n",
    "import matplotlib.pyplot as plt"
   ]
  },
  {
   "cell_type": "markdown",
   "metadata": {
    "id": "uh1QjfCP5Pw9"
   },
   "source": [
    "# Programming Exercise 01"
   ]
  },
  {
   "cell_type": "markdown",
   "metadata": {
    "id": "bWS6ah2w5RlO"
   },
   "source": [
    "#1. For  the signal given below, plot the following signals\n",
    "\n",
    "#(i) x(n+2)\t\t\n",
    "#(ii)x(n)u(-n)\t\t\t\n",
    "#(iii)x(n-1)u(-n-2)\t\n",
    "#(iv) x(-n-1)u(n)\t\t\n",
    "#(v) x(2n)\n"
   ]
  },
  {
   "cell_type": "markdown",
   "metadata": {
    "id": "b1ThsBjB5USl"
   },
   "source": [
    "![](https://drive.google.com/uc?export=view&id=1lZza6OouitiMTIPjs2s6ZMFfLFNdDhpd)"
   ]
  },
  {
   "cell_type": "markdown",
   "metadata": {
    "id": "vmx4bWla8o3_"
   },
   "source": [
    "# Plotting the signal\n"
   ]
  },
  {
   "cell_type": "code",
   "execution_count": 2,
   "metadata": {
    "colab": {
     "base_uri": "https://localhost:8080/",
     "height": 265
    },
    "id": "ImUi3NSJ5gyV",
    "outputId": "59581d11-7094-474b-a32c-f5ba749dac69"
   },
   "outputs": [
    {
     "data": {
      "image/png": "[encoded data removed]",
      "text/plain": [
       "<Figure size 432x288 with 1 Axes>"
      ]
     },
     "metadata": {
      "needs_background": "light",
      "tags": []
     },
     "output_type": "display_data"
    }
   ],
   "source": [
    "x=[8,5,2,4,2,1]\n",
    "n=np.linspace(-1,4,6)\n",
    "plt.stem(n,x,use_line_collection=True);"
   ]
  },
  {
   "cell_type": "markdown",
   "metadata": {
    "id": "YfvV8heQ8tcT"
   },
   "source": [
    "#  (i) x(n+2)\t"
   ]
  },
  {
   "cell_type": "code",
   "execution_count": 3,
   "metadata": {
    "colab": {
     "base_uri": "https://localhost:8080/",
     "height": 265
    },
    "id": "Ckm14pTT5g87",
    "outputId": "0e00629e-9c75-4465-8337-9079e4878494"
   },
   "outputs": [
    {
     "data": {
      "image/png": "[encoded data removed]",
      "text/plain": [
       "<Figure size 432x288 with 1 Axes>"
      ]
     },
     "metadata": {
      "needs_background": "light",
      "tags": []
     },
     "output_type": "display_data"
    }
   ],
   "source": [
    "plt.stem(n-2,x,use_line_collection=True);"
   ]
  },
  {
   "cell_type": "markdown",
   "metadata": {
    "id": "OoSlE_kl8t4K"
   },
   "source": [
    "# (ii) x(n)u(-n)\t"
   ]
  },
  {
   "cell_type": "markdown",
   "metadata": {
    "id": "hE9l6isz80nt"
   },
   "source": [
    "# u(-n)\t"
   ]
  },
  {
   "cell_type": "code",
   "execution_count": 4,
   "metadata": {
    "colab": {
     "base_uri": "https://localhost:8080/",
     "height": 265
    },
    "id": "lBjaeXYt5gkF",
    "outputId": "a69fb9cc-f4f7-4ce3-b443-8dd47f74a3e0"
   },
   "outputs": [
    {
     "data": {
      "image/png": "[encoded data removed]",
      "text/plain": [
       "<Figure size 432x288 with 1 Axes>"
      ]
     },
     "metadata": {
      "needs_background": "light",
      "tags": []
     },
     "output_type": "display_data"
    }
   ],
   "source": [
    "x1 = np.linspace(-1,4,6)\n",
    "y1 = (x1<=0)*1\n",
    "plt.stem(x1,y1,use_line_collection=True)\n",
    "plt.show()"
   ]
  },
  {
   "cell_type": "markdown",
   "metadata": {
    "id": "vKNqG9ZF83Ln"
   },
   "source": [
    "#x(n)u(-n)"
   ]
  },
  {
   "cell_type": "code",
   "execution_count": 5,
   "metadata": {
    "colab": {
     "base_uri": "https://localhost:8080/",
     "height": 265
    },
    "id": "6-fU60V086om",
    "outputId": "7d47996f-a5a8-4e03-8e71-920251a75594"
   },
   "outputs": [
    {
     "data": {
      "image/png": "[encoded data removed]",
      "text/plain": [
       "<Figure size 432x288 with 1 Axes>"
      ]
     },
     "metadata": {
      "needs_background": "light",
      "tags": []
     },
     "output_type": "display_data"
    }
   ],
   "source": [
    "x2 = np.linspace(-1,4,6)\n",
    "y2=x*y1\n",
    "plt.stem(x2,y2,use_line_collection=True)\n",
    "plt.show()"
   ]
  },
  {
   "cell_type": "markdown",
   "metadata": {
    "id": "AarzzKhE8-J4"
   },
   "source": [
    "# (iii)x(n-1)u(-n-2)"
   ]
  },
  {
   "cell_type": "markdown",
   "metadata": {
    "id": "J5Okne3w89uf"
   },
   "source": [
    "# x(n-1)"
   ]
  },
  {
   "cell_type": "code",
   "execution_count": 6,
   "metadata": {
    "colab": {
     "base_uri": "https://localhost:8080/",
     "height": 265
    },
    "id": "D-MU34aS86Fs",
    "outputId": "43bb146b-ba9d-4366-97f2-c28607ba4e93"
   },
   "outputs": [
    {
     "data": {
      "image/png": "[encoded data removed]",
      "text/plain": [
       "<Figure size 432x288 with 1 Axes>"
      ]
     },
     "metadata": {
      "needs_background": "light",
      "tags": []
     },
     "output_type": "display_data"
    }
   ],
   "source": [
    "x=[8,5,2,4,2,1]\n",
    "n=np.linspace(-1,4,6)\n",
    "n1=n+1\n",
    "plt.stem(n1,x,use_line_collection=True);"
   ]
  },
  {
   "cell_type": "markdown",
   "metadata": {
    "id": "oso_bI3U9DZn"
   },
   "source": [
    "#u(-n-2)"
   ]
  },
  {
   "cell_type": "code",
   "execution_count": 7,
   "metadata": {
    "colab": {
     "base_uri": "https://localhost:8080/",
     "height": 265
    },
    "id": "T7w9CE1C856v",
    "outputId": "6b01f7d5-8fa0-4b7b-8eff-39ae9f062db8"
   },
   "outputs": [
    {
     "data": {
      "image/png": "[encoded data removed]",
      "text/plain": [
       "<Figure size 432x288 with 1 Axes>"
      ]
     },
     "metadata": {
      "needs_background": "light",
      "tags": []
     },
     "output_type": "display_data"
    }
   ],
   "source": [
    "x2 = np.linspace(-3,4,8)\n",
    "y2 = (x2<=-2)*1\n",
    "plt.stem(x2,y2,use_line_collection=True)\n",
    "plt.show()"
   ]
  },
  {
   "cell_type": "code",
   "execution_count": 8,
   "metadata": {
    "colab": {
     "base_uri": "https://localhost:8080/",
     "height": 265
    },
    "id": "QNDS-w5V9Gw-",
    "outputId": "d9c82e05-4392-4c0c-9ade-b55a8e9c847e"
   },
   "outputs": [
    {
     "data": {
      "image/png": "[encoded data removed]",
      "text/plain": [
       "<Figure size 432x288 with 1 Axes>"
      ]
     },
     "metadata": {
      "needs_background": "light",
      "tags": []
     },
     "output_type": "display_data"
    }
   ],
   "source": [
    "x1=np.linspace(-1,4,6)\n",
    "y1 = (x1<=-2)*1\n",
    "plt.stem(x1,y1,use_line_collection=True)\n",
    "plt.show()"
   ]
  },
  {
   "cell_type": "markdown",
   "metadata": {
    "id": "IxZ4gk3Q9Iwp"
   },
   "source": [
    "# (iv) x(-n-1)u(n)"
   ]
  },
  {
   "cell_type": "markdown",
   "metadata": {
    "id": "PeySEHaD9LeB"
   },
   "source": [
    "# x(-n-1)"
   ]
  },
  {
   "cell_type": "code",
   "execution_count": 9,
   "metadata": {
    "colab": {
     "base_uri": "https://localhost:8080/",
     "height": 265
    },
    "id": "8pV6Qr-Q9Nn9",
    "outputId": "9a6584cd-4c6e-4bd1-ffda-841355e6d6cd"
   },
   "outputs": [
    {
     "data": {
      "image/png": "[encoded data removed]",
      "text/plain": [
       "<Figure size 432x288 with 1 Axes>"
      ]
     },
     "metadata": {
      "needs_background": "light",
      "tags": []
     },
     "output_type": "display_data"
    }
   ],
   "source": [
    "x=[8,5,2,4,2,1]\n",
    "n=np.linspace(-1,4,6)\n",
    "n2=-n-1\n",
    "plt.stem(n2,x,use_line_collection=True);"
   ]
  },
  {
   "cell_type": "markdown",
   "metadata": {
    "id": "As3iNFzy9OKe"
   },
   "source": [
    "# u(n)"
   ]
  },
  {
   "cell_type": "code",
   "execution_count": 10,
   "metadata": {
    "colab": {
     "base_uri": "https://localhost:8080/",
     "height": 265
    },
    "id": "fOyZ1pV99TAO",
    "outputId": "f08371b7-709a-45c3-bef7-6e52ec8b665d"
   },
   "outputs": [
    {
     "data": {
      "image/png": "[encoded data removed]",
      "text/plain": [
       "<Figure size 432x288 with 1 Axes>"
      ]
     },
     "metadata": {
      "needs_background": "light",
      "tags": []
     },
     "output_type": "display_data"
    }
   ],
   "source": [
    "x1 = np.linspace(-5,0,6)\n",
    "y1 = (x1>=0)*1\n",
    "plt.stem(x1,y1,use_line_collection=True)\n",
    "plt.show()"
   ]
  },
  {
   "cell_type": "markdown",
   "metadata": {
    "id": "f6E30YEA9VEU"
   },
   "source": [
    "# x(-n-1)u(n)"
   ]
  },
  {
   "cell_type": "code",
   "execution_count": 11,
   "metadata": {
    "colab": {
     "base_uri": "https://localhost:8080/",
     "height": 282
    },
    "id": "AxaKDohS9W5h",
    "outputId": "2543c71c-c76f-47eb-91a8-b9291659a76c"
   },
   "outputs": [
    {
     "name": "stdout",
     "output_type": "stream",
     "text": [
      "[0 0 0 0 0 8]\n"
     ]
    },
    {
     "data": {
      "image/png": "[encoded data removed]",
      "text/plain": [
       "<Figure size 432x288 with 1 Axes>"
      ]
     },
     "metadata": {
      "needs_background": "light",
      "tags": []
     },
     "output_type": "display_data"
    }
   ],
   "source": [
    "y2=y1*x[0]\n",
    "print(y2)\n",
    "plt.stem(x1,y2,use_line_collection=True)\n",
    "plt.show()"
   ]
  },
  {
   "cell_type": "markdown",
   "metadata": {
    "id": "v9zSuZ3I9ZYn"
   },
   "source": [
    "# (v) x(2n)"
   ]
  },
  {
   "cell_type": "code",
   "execution_count": 12,
   "metadata": {
    "colab": {
     "base_uri": "https://localhost:8080/",
     "height": 282
    },
    "id": "r51M0f989aJc",
    "outputId": "2a9f85a0-d5d3-4b45-e955-e89e494485f6"
   },
   "outputs": [
    {
     "name": "stdout",
     "output_type": "stream",
     "text": [
      "[5, 4, 1]\n"
     ]
    },
    {
     "data": {
      "image/png": "[encoded data removed]",
      "text/plain": [
       "<Figure size 432x288 with 1 Axes>"
      ]
     },
     "metadata": {
      "needs_background": "light",
      "tags": []
     },
     "output_type": "display_data"
    }
   ],
   "source": [
    "x=[8,5,2,4,2,1]\n",
    "res = [x[i] for i in range(len(x)) if i % 2 != 0] \n",
    "print(res)\n",
    "n=np.linspace(0,2,3)\n",
    "plt.stem(n,res,use_line_collection=True);"
   ]
  },
  {
   "cell_type": "markdown",
   "metadata": {
    "id": "YR1bfOhX5W_m"
   },
   "source": [
    "# Programming Exercise 2"
   ]
  },
  {
   "cell_type": "markdown",
   "metadata": {
    "id": "zO71CuZB5YuH"
   },
   "source": [
    "#For x(n) = { 1,3,-1,2,0,4 }, plot the following signals\n",
    "#(i) x(n+2)\t\t\t\n",
    "#(ii)x(-n-1)\t\t\t\n",
    "#(iii)2x(n)\t\n",
    "#(iv) x(n-1)𝛿(n-3)\n",
    "#(v) x(n)u(n-2)\n"
   ]
  },
  {
   "cell_type": "markdown",
   "metadata": {
    "id": "GYB3-Xblj79Z"
   },
   "source": [
    "# Plotting the Signal"
   ]
  },
  {
   "cell_type": "code",
   "execution_count": 13,
   "metadata": {
    "colab": {
     "base_uri": "https://localhost:8080/",
     "height": 282
    },
    "id": "_QA62iP3j_BU",
    "outputId": "d21789e0-d627-48c4-cd8d-429e42a67f1b"
   },
   "outputs": [
    {
     "data": {
      "text/plain": [
       "<StemContainer object of 3 artists>"
      ]
     },
     "execution_count": 13,
     "metadata": {
      "tags": []
     },
     "output_type": "execute_result"
    },
    {
     "data": {
      "image/png": "[encoded data removed]",
      "text/plain": [
       "<Figure size 432x288 with 1 Axes>"
      ]
     },
     "metadata": {
      "needs_background": "light",
      "tags": []
     },
     "output_type": "display_data"
    }
   ],
   "source": [
    "x = [1,3,-1,2,0,4]\n",
    "n = np.linspace(0,5,6)\n",
    "plt.stem(n,x,use_line_collection=True)"
   ]
  },
  {
   "cell_type": "markdown",
   "metadata": {
    "id": "1zdlXKzx9grX"
   },
   "source": [
    "#(i) x(n+2)\t\t\t\n",
    "\n"
   ]
  },
  {
   "cell_type": "code",
   "execution_count": 14,
   "metadata": {
    "colab": {
     "base_uri": "https://localhost:8080/",
     "height": 282
    },
    "id": "1b5Z2jbm5OUn",
    "outputId": "2dd0f2c8-6448-46b3-a9a0-9eb427f4dde9"
   },
   "outputs": [
    {
     "data": {
      "text/plain": [
       "<StemContainer object of 3 artists>"
      ]
     },
     "execution_count": 14,
     "metadata": {
      "tags": []
     },
     "output_type": "execute_result"
    },
    {
     "data": {
      "image/png": "[encoded data removed]",
      "text/plain": [
       "<Figure size 432x288 with 1 Axes>"
      ]
     },
     "metadata": {
      "needs_background": "light",
      "tags": []
     },
     "output_type": "display_data"
    }
   ],
   "source": [
    "plt.stem(n-2,x,use_line_collection=True)"
   ]
  },
  {
   "cell_type": "markdown",
   "metadata": {
    "id": "W3sM_7-X9hGT"
   },
   "source": [
    "#(ii)x(-n-1)\t\t\t\n"
   ]
  },
  {
   "cell_type": "code",
   "execution_count": 15,
   "metadata": {
    "colab": {
     "base_uri": "https://localhost:8080/",
     "height": 282
    },
    "id": "4n55jLro5hys",
    "outputId": "63fed958-9f87-4d9d-8ed9-0d26bd43532c"
   },
   "outputs": [
    {
     "data": {
      "text/plain": [
       "<StemContainer object of 3 artists>"
      ]
     },
     "execution_count": 15,
     "metadata": {
      "tags": []
     },
     "output_type": "execute_result"
    },
    {
     "data": {
      "image/png": "[encoded data removed]",
      "text/plain": [
       "<Figure size 432x288 with 1 Axes>"
      ]
     },
     "metadata": {
      "needs_background": "light",
      "tags": []
     },
     "output_type": "display_data"
    }
   ],
   "source": [
    "x = [1,3,-1,2,0,4]\n",
    "n = np.linspace(-1,4,6)\n",
    "n2 = -n-1\n",
    "plt.stem(n2,x,use_line_collection=True)"
   ]
  },
  {
   "cell_type": "markdown",
   "metadata": {
    "id": "_3NcOUW99hWm"
   },
   "source": [
    "#(iii)2x(n)\t\n"
   ]
  },
  {
   "cell_type": "code",
   "execution_count": 16,
   "metadata": {
    "colab": {
     "base_uri": "https://localhost:8080/",
     "height": 282
    },
    "id": "WedloZMa9utk",
    "outputId": "684c6894-cc1d-4ee7-b322-ca3b7f09dd76"
   },
   "outputs": [
    {
     "data": {
      "text/plain": [
       "<StemContainer object of 3 artists>"
      ]
     },
     "execution_count": 16,
     "metadata": {
      "tags": []
     },
     "output_type": "execute_result"
    },
    {
     "data": {
      "image/png": "[encoded data removed]",
      "text/plain": [
       "<Figure size 432x288 with 1 Axes>"
      ]
     },
     "metadata": {
      "needs_background": "light",
      "tags": []
     },
     "output_type": "display_data"
    }
   ],
   "source": [
    "x = [2*i for i in x]\n",
    "n=np.linspace(0,5,6)\n",
    "plt.stem(n,x,use_line_collection=True)"
   ]
  },
  {
   "cell_type": "markdown",
   "metadata": {
    "id": "PxDk2jsH9g6I"
   },
   "source": [
    "#(iv) x(n-1)𝛿(n-3)"
   ]
  },
  {
   "cell_type": "markdown",
   "metadata": {
    "id": "AC6Dvxb-p_vI"
   },
   "source": [
    "## Solving for x(n-1)"
   ]
  },
  {
   "cell_type": "code",
   "execution_count": 17,
   "metadata": {
    "colab": {
     "base_uri": "https://localhost:8080/",
     "height": 282
    },
    "id": "nk1-V8U69ufh",
    "outputId": "c1a9d146-11a9-4a7f-bf2e-d5311ecdfebc"
   },
   "outputs": [
    {
     "data": {
      "text/plain": [
       "<StemContainer object of 3 artists>"
      ]
     },
     "execution_count": 17,
     "metadata": {
      "tags": []
     },
     "output_type": "execute_result"
    },
    {
     "data": {
      "image/png": "[encoded data removed]",
      "text/plain": [
       "<Figure size 432x288 with 1 Axes>"
      ]
     },
     "metadata": {
      "needs_background": "light",
      "tags": []
     },
     "output_type": "display_data"
    }
   ],
   "source": [
    "x = [1,3,-1,2,0,4]\n",
    "n = np.linspace(0,5,6)\n",
    "n1 = n+1\n",
    "plt.stem(n1,x,use_line_collection=True)"
   ]
  },
  {
   "cell_type": "markdown",
   "metadata": {
    "id": "vwDuG4Z-qE_P"
   },
   "source": [
    "## Solving for 𝛿(n-3)"
   ]
  },
  {
   "cell_type": "code",
   "execution_count": 18,
   "metadata": {
    "colab": {
     "base_uri": "https://localhost:8080/",
     "height": 282
    },
    "id": "9MnVk1Vbkmy2",
    "outputId": "ab5f2a2c-14ca-4c4f-97e8-34fd7845d747"
   },
   "outputs": [
    {
     "data": {
      "text/plain": [
       "<StemContainer object of 3 artists>"
      ]
     },
     "execution_count": 18,
     "metadata": {
      "tags": []
     },
     "output_type": "execute_result"
    },
    {
     "data": {
      "image/png": "[encoded data removed]",
      "text/plain": [
       "<Figure size 432x288 with 1 Axes>"
      ]
     },
     "metadata": {
      "needs_background": "light",
      "tags": []
     },
     "output_type": "display_data"
    }
   ],
   "source": [
    "x1 = [1 if i==3 else 0 for i in range(len(x))]\n",
    "n = np.linspace(0,5,6)\n",
    "plt.stem(n,x1,use_line_collection=True)"
   ]
  },
  {
   "cell_type": "code",
   "execution_count": 19,
   "metadata": {
    "colab": {
     "base_uri": "https://localhost:8080/",
     "height": 282
    },
    "id": "rJpvYHvRks4i",
    "outputId": "38773191-746e-4120-eefe-b5e5422775e6"
   },
   "outputs": [
    {
     "data": {
      "text/plain": [
       "<StemContainer object of 3 artists>"
      ]
     },
     "execution_count": 19,
     "metadata": {
      "tags": []
     },
     "output_type": "execute_result"
    },
    {
     "data": {
      "image/png": "[encoded data removed]",
      "text/plain": [
       "<Figure size 432x288 with 1 Axes>"
      ]
     },
     "metadata": {
      "needs_background": "light",
      "tags": []
     },
     "output_type": "display_data"
    }
   ],
   "source": [
    "x2 = [x[i-1] if x1[i]==1 else 0 for i in range(len(x1))]\n",
    "n = np.linspace(0,5,6)\n",
    "plt.stem(n,x2,use_line_collection=True)"
   ]
  },
  {
   "cell_type": "markdown",
   "metadata": {
    "id": "jIpVABMj9gi2"
   },
   "source": [
    "\n",
    "#(v) x(n)u(n-2)"
   ]
  },
  {
   "cell_type": "markdown",
   "metadata": {
    "id": "pZEr6UxiqVNR"
   },
   "source": [
    "## Solving for u(n-2)"
   ]
  },
  {
   "cell_type": "code",
   "execution_count": 20,
   "metadata": {
    "colab": {
     "base_uri": "https://localhost:8080/",
     "height": 265
    },
    "id": "TH8CHqbb5hvo",
    "outputId": "1b38c8da-b994-42a0-a704-9e112e4486d4"
   },
   "outputs": [
    {
     "data": {
      "image/png": "[encoded data removed]",
      "text/plain": [
       "<Figure size 432x288 with 1 Axes>"
      ]
     },
     "metadata": {
      "needs_background": "light",
      "tags": []
     },
     "output_type": "display_data"
    }
   ],
   "source": [
    "\n",
    "x1 = np.linspace(0,5,6)\n",
    "y1 = (x1>=2)*1\n",
    "plt.stem(x1,y1,use_line_collection=True)\n",
    "plt.show()"
   ]
  },
  {
   "cell_type": "markdown",
   "metadata": {
    "id": "i3QzkU3uqZZp"
   },
   "source": [
    "## x(n)u(n-2)"
   ]
  },
  {
   "cell_type": "code",
   "execution_count": 21,
   "metadata": {
    "colab": {
     "base_uri": "https://localhost:8080/",
     "height": 265
    },
    "id": "CVbykJBrkyUJ",
    "outputId": "62e1947e-c139-4022-feb5-518fe73551f5"
   },
   "outputs": [
    {
     "data": {
      "image/png": "[encoded data removed]",
      "text/plain": [
       "<Figure size 432x288 with 1 Axes>"
      ]
     },
     "metadata": {
      "needs_background": "light",
      "tags": []
     },
     "output_type": "display_data"
    }
   ],
   "source": [
    "x2 = np.linspace(0,5,6)\n",
    "y2 = x*y1\n",
    "plt.stem(x2,y2,use_line_collection=True)\n",
    "plt.show()"
   ]
  }
 ],
 "metadata": {
  "colab": {
   "collapsed_sections": [],
   "name": "69_BECMPNA_Exp03_DSIP.ipynb",
   "provenance": []
  },
  "kernelspec": {
   "display_name": "Python 3",
   "language": "python",
   "name": "python3"
  },
  "language_info": {
   "codemirror_mode": {
    "name": "ipython",
    "version": 3
   },
   "file_extension": ".py",
   "mimetype": "text/x-python",
   "name": "python",
   "nbconvert_exporter": "python",
   "pygments_lexer": "ipython3",
   "version": "3.6.6"
  }
 },
 "nbformat": 4,
 "nbformat_minor": 1
}

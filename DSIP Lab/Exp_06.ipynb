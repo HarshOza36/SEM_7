{
 "cells": [
  {
   "cell_type": "markdown",
   "metadata": {
    "id": "s9Gy7Lo7nRxj"
   },
   "source": [
    "#Exp06: Discrete Fourier Transform"
   ]
  },
  {
   "cell_type": "markdown",
   "metadata": {
    "id": "9bqJHxugnU37"
   },
   "source": [
    "#Sample Program"
   ]
  },
  {
   "cell_type": "code",
   "execution_count": 1,
   "metadata": {
    "id": "NSU6udULm05B"
   },
   "outputs": [],
   "source": [
    "import numpy as np"
   ]
  },
  {
   "cell_type": "code",
   "execution_count": 2,
   "metadata": {
    "colab": {
     "base_uri": "https://localhost:8080/",
     "height": 126
    },
    "id": "Vzf1AhNKnZKD",
    "outputId": "b0d7c7e9-932e-4fae-9ecb-f19aafe4f147"
   },
   "outputs": [
    {
     "name": "stdout",
     "output_type": "stream",
     "text": [
      "[[ 1.  +0.j    1.  +0.j    1.  +0.j    1.  +0.j    1.  +0.j  ]\n",
      " [ 1.  +0.j    0.31-0.95j -0.81-0.59j -0.81+0.59j  0.31+0.95j]\n",
      " [ 1.  +0.j   -0.81-0.59j  0.31+0.95j  0.31-0.95j -0.81+0.59j]\n",
      " [ 1.  +0.j   -0.81+0.59j  0.31-0.95j  0.31+0.95j -0.81-0.59j]\n",
      " [ 1.  +0.j    0.31+0.95j -0.81+0.59j -0.81-0.59j  0.31-0.95j]]\n",
      "[15. +0.j   -2.5+3.44j -2.5+0.81j -2.5-0.81j -2.5-3.44j]\n"
     ]
    }
   ],
   "source": [
    "from scipy.linalg import dft\n",
    "np.set_printoptions(precision=2, suppress=True)  # for compact output\n",
    "m = dft(5)\n",
    "print(m)\n",
    "x = np.array([1, 2, 3, 4, 5])\n",
    "dftx=m @ x  # Compute the DFT of x\n",
    "print(dftx)"
   ]
  },
  {
   "cell_type": "markdown",
   "metadata": {
    "id": "UORbGf7gncxb"
   },
   "source": [
    "# Programming Exercise 01"
   ]
  },
  {
   "cell_type": "markdown",
   "metadata": {
    "id": "IIwrel9Lnfzf"
   },
   "source": [
    "##Compute DFT of the sequence x(n) = {3,2,3,4}\n"
   ]
  },
  {
   "cell_type": "code",
   "execution_count": 3,
   "metadata": {
    "colab": {
     "base_uri": "https://localhost:8080/",
     "height": 145
    },
    "id": "5sJt3tx3ne1g",
    "outputId": "621d80c6-6cbe-47ac-a2b0-35860761c345"
   },
   "outputs": [
    {
     "name": "stdout",
     "output_type": "stream",
     "text": [
      "DFT is\n",
      "[[ 1.+0.j  1.+0.j  1.+0.j  1.+0.j]\n",
      " [ 1.+0.j  0.-1.j -1.-0.j -0.+1.j]\n",
      " [ 1.+0.j -1.-0.j  1.+0.j -1.-0.j]\n",
      " [ 1.+0.j -0.+1.j -1.-0.j  0.-1.j]]\n",
      "DFT transform is\n",
      "[12.+0.j -0.+2.j  0.-0.j  0.-2.j]\n"
     ]
    }
   ],
   "source": [
    "np.set_printoptions(precision=2, suppress=True)  # for compact output\n",
    "m = dft(4)\n",
    "print(\"DFT is\")\n",
    "print(m)\n",
    "x = np.array([3,2,3,4])\n",
    "print(\"DFT transform is\")\n",
    "dftx=m @ x  # Compute the DFT of x\n",
    "print(dftx)"
   ]
  },
  {
   "cell_type": "markdown",
   "metadata": {
    "id": "a-ougu_qngxx"
   },
   "source": [
    "# Programming Exercise 02"
   ]
  },
  {
   "cell_type": "markdown",
   "metadata": {
    "id": "XHWNE48_nhAh"
   },
   "source": [
    "## Compute DFT of the sequence x(n) = {1,2,3,4,5,6,7,8}\n"
   ]
  },
  {
   "cell_type": "code",
   "execution_count": 4,
   "metadata": {
    "colab": {
     "base_uri": "https://localhost:8080/",
     "height": 381
    },
    "id": "_hjc_hidna1y",
    "outputId": "b473d7da-4d45-4fbd-d4d0-dcfd735387a8"
   },
   "outputs": [
    {
     "name": "stdout",
     "output_type": "stream",
     "text": [
      "DFT is\n",
      "[[ 1.  +0.j    1.  +0.j    1.  +0.j    1.  +0.j    1.  +0.j    1.  +0.j\n",
      "   1.  +0.j    1.  +0.j  ]\n",
      " [ 1.  +0.j    0.71-0.71j  0.  -1.j   -0.71-0.71j -1.  -0.j   -0.71+0.71j\n",
      "  -0.  +1.j    0.71+0.71j]\n",
      " [ 1.  +0.j    0.  -1.j   -1.  -0.j   -0.  +1.j    1.  +0.j    0.  -1.j\n",
      "  -1.  -0.j   -0.  +1.j  ]\n",
      " [ 1.  +0.j   -0.71-0.71j -0.  +1.j    0.71-0.71j -1.  -0.j    0.71+0.71j\n",
      "   0.  -1.j   -0.71+0.71j]\n",
      " [ 1.  +0.j   -1.  -0.j    1.  +0.j   -1.  -0.j    1.  +0.j   -1.  -0.j\n",
      "   1.  +0.j   -1.  -0.j  ]\n",
      " [ 1.  +0.j   -0.71+0.71j  0.  -1.j    0.71+0.71j -1.  -0.j    0.71-0.71j\n",
      "  -0.  +1.j   -0.71-0.71j]\n",
      " [ 1.  +0.j   -0.  +1.j   -1.  -0.j    0.  -1.j    1.  +0.j   -0.  +1.j\n",
      "  -1.  -0.j    0.  -1.j  ]\n",
      " [ 1.  +0.j    0.71+0.71j -0.  +1.j   -0.71+0.71j -1.  -0.j   -0.71-0.71j\n",
      "   0.  -1.j    0.71-0.71j]]\n",
      "DFT transform is\n",
      "[36.+0.j   -4.+9.66j -4.+4.j   -4.+1.66j -4.-0.j   -4.-1.66j -4.-4.j\n",
      " -4.-9.66j]\n"
     ]
    }
   ],
   "source": [
    "np.set_printoptions(precision=2, suppress=True)  # for compact output\n",
    "m = dft(8)\n",
    "print(\"DFT is\")\n",
    "print(m)\n",
    "x = np.array([1, 2, 3, 4, 5,6,7,8])\n",
    "print(\"DFT transform is\")\n",
    "dftx=m @ x  # Compute the DFT of x\n",
    "print(dftx)"
   ]
  }
 ],
 "metadata": {
  "colab": {
   "collapsed_sections": [],
   "name": "69_BECMPNA_Exp06_DSIP.ipynb",
   "provenance": []
  },
  "kernelspec": {
   "display_name": "Python 3",
   "language": "python",
   "name": "python3"
  },
  "language_info": {
   "codemirror_mode": {
    "name": "ipython",
    "version": 3
   },
   "file_extension": ".py",
   "mimetype": "text/x-python",
   "name": "python",
   "nbconvert_exporter": "python",
   "pygments_lexer": "ipython3",
   "version": "3.6.6"
  }
 },
 "nbformat": 4,
 "nbformat_minor": 1
}

{
 "cells": [
  {
   "cell_type": "markdown",
   "metadata": {
    "id": "1L0Sp916QrBz"
   },
   "source": [
    "## *Defining INPUT-STREAM*"
   ]
  },
  {
   "cell_type": "code",
   "execution_count": 1,
   "metadata": {
    "id": "oC6VsEFaQVIA"
   },
   "outputs": [],
   "source": [
    "ip = [3, 1, 2, 1, 27, 8, 7, 8, 2, 3, 1, 3, 6, 2, 1, 1, 2, 3, 4, 7, 8, 1, 2, 3, 7, 8, 1, 2, 3, 4]"
   ]
  },
  {
   "cell_type": "markdown",
   "metadata": {
    "id": "wGrYCULYQ09v"
   },
   "source": [
    "## **Hash Functions**"
   ]
  },
  {
   "cell_type": "code",
   "execution_count": 2,
   "metadata": {
    "id": "Bcj3NYeaQz9O"
   },
   "outputs": [],
   "source": [
    "h1 = lambda x: (3*x + 1) % 5\n",
    "h2 = lambda x: (6*x + 1) % 16\n",
    "h3 = lambda x: (2*x + 1) % 32"
   ]
  },
  {
   "cell_type": "markdown",
   "metadata": {
    "id": "_630f_ksR6nw"
   },
   "source": [
    "## **FlajoLet Martin Algorithm**"
   ]
  },
  {
   "cell_type": "code",
   "execution_count": 3,
   "metadata": {
    "id": "08HxjfE0PYAS"
   },
   "outputs": [],
   "source": [
    "from tabulate import tabulate\n",
    "from math import log\n",
    "def flajolet_martin(ip,hash_fn,hash_f_v):\n",
    "    fm_array = []\n",
    "    main_array = []\n",
    "\n",
    "    for h in [hash_fn]:\n",
    "        r = []\n",
    "        for i in ip:\n",
    "            a = h(i)\n",
    "            # Taking Binary\n",
    "            b = bin(a)[2:][::-1]\n",
    "            if '1' in b:\n",
    "                r.append(b.index('1'))\n",
    "                ra = b.index('1') \n",
    "            else:\n",
    "                r.append(0)\n",
    "                ra = 0\n",
    "            main_array.append([i,a,b[::-1],ra])    \n",
    "        fm_array.append(2**max(r))\n",
    "    # print(fm_array)\n",
    "  \n",
    "    headings = [\"Input\",\"h(x) = \"+str(hash_f_v),\"Binary\",\"Trailing zeros r(a)\"]\n",
    "    print(tabulate(main_array,headers=headings))\n",
    "    print(\"--------------------------------------------------------------------------------------------------\")\n",
    "    print(\"We know R = max(r(a))\")\n",
    "    if (sum(fm_array)/len(fm_array) == 1.0):\n",
    "      print(\"Hence here , R == 0.0\")\n",
    "    else: \n",
    "      print(\"Hence here , R == \",log(sum(fm_array)/len(fm_array),2))\n",
    "    print(\"Now the Estimate is found using 2^R \")\n",
    "    print(f\"Hence , Estimated unique values that is Distinct Count is >>> {sum(fm_array)/len(fm_array)}\")\n",
    "    print(\"--------------------------------------------------------------------------------------------------\")"
   ]
  },
  {
   "cell_type": "markdown",
   "metadata": {
    "id": "LEPpBCJyRUNA"
   },
   "source": [
    "## **Using the hash function  that is 3x+5 % 5**"
   ]
  },
  {
   "cell_type": "code",
   "execution_count": 4,
   "metadata": {
    "colab": {
     "base_uri": "https://localhost:8080/",
     "height": 663
    },
    "id": "sp3XdReSPwci",
    "outputId": "2d481191-144d-49e2-f7ea-e6a82755cd17"
   },
   "outputs": [
    {
     "name": "stdout",
     "output_type": "stream",
     "text": [
      "  Input    h(x) = 3x+5 % 5    Binary    Trailing zeros r(a)\n",
      "-------  -----------------  --------  ---------------------\n",
      "      3                  0         0                      0\n",
      "      1                  4       100                      2\n",
      "      2                  2        10                      1\n",
      "      1                  4       100                      2\n",
      "     27                  2        10                      1\n",
      "      8                  0         0                      0\n",
      "      7                  2        10                      1\n",
      "      8                  0         0                      0\n",
      "      2                  2        10                      1\n",
      "      3                  0         0                      0\n",
      "      1                  4       100                      2\n",
      "      3                  0         0                      0\n",
      "      6                  4       100                      2\n",
      "      2                  2        10                      1\n",
      "      1                  4       100                      2\n",
      "      1                  4       100                      2\n",
      "      2                  2        10                      1\n",
      "      3                  0         0                      0\n",
      "      4                  3        11                      0\n",
      "      7                  2        10                      1\n",
      "      8                  0         0                      0\n",
      "      1                  4       100                      2\n",
      "      2                  2        10                      1\n",
      "      3                  0         0                      0\n",
      "      7                  2        10                      1\n",
      "      8                  0         0                      0\n",
      "      1                  4       100                      2\n",
      "      2                  2        10                      1\n",
      "      3                  0         0                      0\n",
      "      4                  3        11                      0\n",
      "--------------------------------------------------------------------------------------------------\n",
      "We know R = max(r(a))\n",
      "Hence here , R ==  2.0\n",
      "Now the Estimate is found using 2^R \n",
      "Hence , Estimated unique values that is Distinct Count is >>> 4.0\n",
      "--------------------------------------------------------------------------------------------------\n"
     ]
    }
   ],
   "source": [
    "flajolet_martin(ip,h1,\"3x+5 % 5\")"
   ]
  },
  {
   "cell_type": "markdown",
   "metadata": {
    "id": "idwERYOkSBHs"
   },
   "source": [
    "## **Using the hash function  that is 6x+1 % 16**"
   ]
  },
  {
   "cell_type": "code",
   "execution_count": 5,
   "metadata": {
    "colab": {
     "base_uri": "https://localhost:8080/",
     "height": 663
    },
    "id": "RyaMkgcURt9a",
    "outputId": "25909c60-ecd2-4c46-9ca4-59e5bfbb59d6"
   },
   "outputs": [
    {
     "name": "stdout",
     "output_type": "stream",
     "text": [
      "  Input    h(x) = 6x+1 % 16    Binary    Trailing zeros r(a)\n",
      "-------  ------------------  --------  ---------------------\n",
      "      3                   3        11                      0\n",
      "      1                   7       111                      0\n",
      "      2                  13      1101                      0\n",
      "      1                   7       111                      0\n",
      "     27                   3        11                      0\n",
      "      8                   1         1                      0\n",
      "      7                  11      1011                      0\n",
      "      8                   1         1                      0\n",
      "      2                  13      1101                      0\n",
      "      3                   3        11                      0\n",
      "      1                   7       111                      0\n",
      "      3                   3        11                      0\n",
      "      6                   5       101                      0\n",
      "      2                  13      1101                      0\n",
      "      1                   7       111                      0\n",
      "      1                   7       111                      0\n",
      "      2                  13      1101                      0\n",
      "      3                   3        11                      0\n",
      "      4                   9      1001                      0\n",
      "      7                  11      1011                      0\n",
      "      8                   1         1                      0\n",
      "      1                   7       111                      0\n",
      "      2                  13      1101                      0\n",
      "      3                   3        11                      0\n",
      "      7                  11      1011                      0\n",
      "      8                   1         1                      0\n",
      "      1                   7       111                      0\n",
      "      2                  13      1101                      0\n",
      "      3                   3        11                      0\n",
      "      4                   9      1001                      0\n",
      "--------------------------------------------------------------------------------------------------\n",
      "We know R = max(r(a))\n",
      "Hence here , R == 0.0\n",
      "Now the Estimate is found using 2^R \n",
      "Hence , Estimated unique values that is Distinct Count is >>> 1.0\n",
      "--------------------------------------------------------------------------------------------------\n"
     ]
    }
   ],
   "source": [
    "flajolet_martin(ip,h2,\"6x+1 % 16\")"
   ]
  },
  {
   "cell_type": "markdown",
   "metadata": {
    "id": "lZSRdKHxSBl1"
   },
   "source": [
    "## **Using the hash function  that is 2x+1 % 32**"
   ]
  },
  {
   "cell_type": "code",
   "execution_count": 6,
   "metadata": {
    "colab": {
     "base_uri": "https://localhost:8080/",
     "height": 663
    },
    "id": "2SufgFeIRzPT",
    "outputId": "67a17858-20e9-4145-bc0d-2d4adbeabc67"
   },
   "outputs": [
    {
     "name": "stdout",
     "output_type": "stream",
     "text": [
      "  Input    h(x) = 2x+1 % 32    Binary    Trailing zeros r(a)\n",
      "-------  ------------------  --------  ---------------------\n",
      "      3                   7       111                      0\n",
      "      1                   3        11                      0\n",
      "      2                   5       101                      0\n",
      "      1                   3        11                      0\n",
      "     27                  23     10111                      0\n",
      "      8                  17     10001                      0\n",
      "      7                  15      1111                      0\n",
      "      8                  17     10001                      0\n",
      "      2                   5       101                      0\n",
      "      3                   7       111                      0\n",
      "      1                   3        11                      0\n",
      "      3                   7       111                      0\n",
      "      6                  13      1101                      0\n",
      "      2                   5       101                      0\n",
      "      1                   3        11                      0\n",
      "      1                   3        11                      0\n",
      "      2                   5       101                      0\n",
      "      3                   7       111                      0\n",
      "      4                   9      1001                      0\n",
      "      7                  15      1111                      0\n",
      "      8                  17     10001                      0\n",
      "      1                   3        11                      0\n",
      "      2                   5       101                      0\n",
      "      3                   7       111                      0\n",
      "      7                  15      1111                      0\n",
      "      8                  17     10001                      0\n",
      "      1                   3        11                      0\n",
      "      2                   5       101                      0\n",
      "      3                   7       111                      0\n",
      "      4                   9      1001                      0\n",
      "--------------------------------------------------------------------------------------------------\n",
      "We know R = max(r(a))\n",
      "Hence here , R == 0.0\n",
      "Now the Estimate is found using 2^R \n",
      "Hence , Estimated unique values that is Distinct Count is >>> 1.0\n",
      "--------------------------------------------------------------------------------------------------\n"
     ]
    }
   ],
   "source": [
    "flajolet_martin(ip,h3,\"2x+1 % 32\")"
   ]
  },
  {
   "cell_type": "markdown",
   "metadata": {
    "id": "rnuaaZHD6kdx"
   },
   "source": [
    "## **Using the hash function  that is 4x+1 % 3**"
   ]
  },
  {
   "cell_type": "code",
   "execution_count": 7,
   "metadata": {
    "colab": {
     "base_uri": "https://localhost:8080/",
     "height": 663
    },
    "id": "YHmg7n7y6rnL",
    "outputId": "73a4c8fd-fade-48c5-9f5a-90a78df74fff"
   },
   "outputs": [
    {
     "name": "stdout",
     "output_type": "stream",
     "text": [
      "  Input    h(x) = 4x+1 % 3    Binary    Trailing zeros r(a)\n",
      "-------  -----------------  --------  ---------------------\n",
      "      3                  1         1                      0\n",
      "      1                  2        10                      1\n",
      "      2                  0         0                      0\n",
      "      1                  2        10                      1\n",
      "     27                  1         1                      0\n",
      "      8                  0         0                      0\n",
      "      7                  2        10                      1\n",
      "      8                  0         0                      0\n",
      "      2                  0         0                      0\n",
      "      3                  1         1                      0\n",
      "      1                  2        10                      1\n",
      "      3                  1         1                      0\n",
      "      6                  1         1                      0\n",
      "      2                  0         0                      0\n",
      "      1                  2        10                      1\n",
      "      1                  2        10                      1\n",
      "      2                  0         0                      0\n",
      "      3                  1         1                      0\n",
      "      4                  2        10                      1\n",
      "      7                  2        10                      1\n",
      "      8                  0         0                      0\n",
      "      1                  2        10                      1\n",
      "      2                  0         0                      0\n",
      "      3                  1         1                      0\n",
      "      7                  2        10                      1\n",
      "      8                  0         0                      0\n",
      "      1                  2        10                      1\n",
      "      2                  0         0                      0\n",
      "      3                  1         1                      0\n",
      "      4                  2        10                      1\n",
      "--------------------------------------------------------------------------------------------------\n",
      "We know R = max(r(a))\n",
      "Hence here , R ==  1.0\n",
      "Now the Estimate is found using 2^R \n",
      "Hence , Estimated unique values that is Distinct Count is >>> 2.0\n",
      "--------------------------------------------------------------------------------------------------\n"
     ]
    }
   ],
   "source": [
    "h4 = lambda x: (4*x + 1) % 3\n",
    "flajolet_martin(ip,h4,\"4x+1 % 3\")"
   ]
  },
  {
   "cell_type": "markdown",
   "metadata": {
    "id": "e-PW9A5IDbX9"
   },
   "source": [
    "# **Analysis and Conclusion**\n",
    "\n",
    "### We used 4 hash functions \n",
    " 1. h(x) = [ (3x+5) % 5 ] with count of distinct elements in the stream found to be = 4\n",
    " 2. h(x) = [ (6x+1) % 16 ] with count of distinct elements in the stream found to be = 1\n",
    " 3. h(x) = [ (2x+1) % 32 ] with count of distinct elements in the stream found to be = 1\n",
    " 4. h(x) = [ (4x+1) % 3 ] with count of distinct elements in the stream found to be = 2\n"
   ]
  },
  {
   "cell_type": "markdown",
   "metadata": {
    "id": "npJN7tXeC-Sv"
   },
   "source": [
    "For 1st and 4th hash functions we got a bunch of odd and even binaries which gave us some trailing zeros leading to a estimate value. But in case of 2nd and 3rd hash functions we never got any trailing zeros."
   ]
  },
  {
   "cell_type": "markdown",
   "metadata": {
    "id": "wPs3e7x968yG"
   },
   "source": [
    "Hence we analyze that, when we used ax+b mod 2^k and we got all odd binary numbers which had no trailing zeros like in 2nd and 3rd hash functions above so those are not appropriate hash functions."
   ]
  }
 ],
 "metadata": {
  "colab": {
   "collapsed_sections": [],
   "name": "FlajoletMartin_BDAPrac.ipynb",
   "provenance": []
  },
  "kernelspec": {
   "display_name": "Python 3",
   "language": "python",
   "name": "python3"
  },
  "language_info": {
   "codemirror_mode": {
    "name": "ipython",
    "version": 3
   },
   "file_extension": ".py",
   "mimetype": "text/x-python",
   "name": "python",
   "nbconvert_exporter": "python",
   "pygments_lexer": "ipython3",
   "version": "3.6.6"
  }
 },
 "nbformat": 4,
 "nbformat_minor": 1
}

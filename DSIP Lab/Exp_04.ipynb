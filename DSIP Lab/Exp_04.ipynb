{
 "cells": [
  {
   "cell_type": "markdown",
   "metadata": {
    "id": "3NtKK7pw2w6X"
   },
   "source": [
    "# **Exp 04: To perform the convolution operation of two discrete signals in Python**"
   ]
  },
  {
   "cell_type": "markdown",
   "metadata": {
    "id": "gipdGoK23Lvy"
   },
   "source": [
    "## Package Require : Numpy"
   ]
  },
  {
   "cell_type": "markdown",
   "metadata": {
    "id": "MBGDWq3X3RPn"
   },
   "source": [
    "### Sample Program"
   ]
  },
  {
   "cell_type": "code",
   "execution_count": 1,
   "metadata": {
    "colab": {
     "base_uri": "https://localhost:8080/",
     "height": 34
    },
    "id": "Rsu-G2E62Q_C",
    "outputId": "9b9ca853-27d0-451a-960b-f8559c490f33"
   },
   "outputs": [
    {
     "name": "stdout",
     "output_type": "stream",
     "text": [
      "[ 4 11 20 13  6]\n"
     ]
    }
   ],
   "source": [
    "import numpy as np\n",
    "x=[1,2,3]\n",
    "h=[2,3,4]\n",
    "y=np.correlate(x,h,\"full\")\n",
    "print(y)"
   ]
  },
  {
   "cell_type": "markdown",
   "metadata": {
    "id": "aTtOdVK83gcx"
   },
   "source": [
    "# Programming Exercise 01"
   ]
  },
  {
   "cell_type": "markdown",
   "metadata": {
    "id": "MnCem--N3nwI"
   },
   "source": [
    "## Determine the convolution of the following signals\n",
    "## \tx(n) = {1,2,3,4} and h(n) = {4,3,2,1}\n"
   ]
  },
  {
   "cell_type": "code",
   "execution_count": 2,
   "metadata": {
    "colab": {
     "base_uri": "https://localhost:8080/",
     "height": 34
    },
    "id": "RH9NrVfg22dq",
    "outputId": "678be40a-7c2d-4173-8d10-e3b0632cb856"
   },
   "outputs": [
    {
     "name": "stdout",
     "output_type": "stream",
     "text": [
      "[ 4 11 20 30 20 11  4]\n"
     ]
    }
   ],
   "source": [
    "import numpy as np\n",
    "x=[1,2,3,4]\n",
    "h=[4,3,2,1]\n",
    "y=np.convolve(x,h)\n",
    "print(y)"
   ]
  },
  {
   "cell_type": "markdown",
   "metadata": {
    "id": "_aLT9TBz3sb5"
   },
   "source": [
    "# Programming Exercise 02\n"
   ]
  },
  {
   "cell_type": "markdown",
   "metadata": {
    "id": "OFNi7kTK3wph"
   },
   "source": [
    "## Determine the convolution of the following signals\n",
    "## \tx(n) = {4,4,4,4} and h(n) = {3,3,3}"
   ]
  },
  {
   "cell_type": "code",
   "execution_count": 3,
   "metadata": {
    "colab": {
     "base_uri": "https://localhost:8080/",
     "height": 34
    },
    "id": "ndG35GXV3wJJ",
    "outputId": "f2b6a7bf-90fe-4d0e-c823-8efaefc8c5fa"
   },
   "outputs": [
    {
     "name": "stdout",
     "output_type": "stream",
     "text": [
      "[12 24 36 36 24 12]\n"
     ]
    }
   ],
   "source": [
    "import numpy as np\n",
    "x=[4,4,4,4]\n",
    "h=[3,3,3]\n",
    "y=np.convolve(x,h)\n",
    "print(y)"
   ]
  }
 ],
 "metadata": {
  "colab": {
   "collapsed_sections": [],
   "name": "69_BECMPNA_Exp04_DSIP.ipynb",
   "provenance": []
  },
  "kernelspec": {
   "display_name": "Python 3",
   "language": "python",
   "name": "python3"
  },
  "language_info": {
   "codemirror_mode": {
    "name": "ipython",
    "version": 3
   },
   "file_extension": ".py",
   "mimetype": "text/x-python",
   "name": "python",
   "nbconvert_exporter": "python",
   "pygments_lexer": "ipython3",
   "version": "3.6.6"
  }
 },
 "nbformat": 4,
 "nbformat_minor": 1
}

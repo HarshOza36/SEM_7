{
 "cells": [
  {
   "cell_type": "markdown",
   "metadata": {
    "id": "5nCZjUat5_2r"
   },
   "source": [
    "# **Exp 05: To perform the correlation operation of two discrete signals in Python**"
   ]
  },
  {
   "cell_type": "markdown",
   "metadata": {
    "id": "Qv9NrVhe5_n-"
   },
   "source": [
    "## Package Required : Numpy"
   ]
  },
  {
   "cell_type": "markdown",
   "metadata": {
    "id": "R1jQk4Am6KCj"
   },
   "source": [
    "### Sample Program"
   ]
  },
  {
   "cell_type": "code",
   "execution_count": 1,
   "metadata": {
    "colab": {
     "base_uri": "https://localhost:8080/",
     "height": 34
    },
    "id": "rkkTwhxV56Vn",
    "outputId": "d109745c-d050-4855-d374-91b7c9ab56e3"
   },
   "outputs": [
    {
     "name": "stdout",
     "output_type": "stream",
     "text": [
      "[ 4 11 20 13  6]\n"
     ]
    }
   ],
   "source": [
    "import numpy as np\n",
    "x=[1,2,3]\n",
    "h=[2,3,4]\n",
    "y=np.correlate(x,h,\"full\")\n",
    "print(y)"
   ]
  },
  {
   "cell_type": "markdown",
   "metadata": {
    "id": "h0yaqT-Z6Pdo"
   },
   "source": [
    "# Programming Exercise 01"
   ]
  },
  {
   "cell_type": "markdown",
   "metadata": {
    "id": "yaO6HtNl6R40"
   },
   "source": [
    "## Determine the correlation of the following signals\n",
    "\n",
    "---\n",
    "\n",
    "\n",
    "## \tx(n) = {1,2,3,4} and y(n) = {4,3,2,1}\n"
   ]
  },
  {
   "cell_type": "code",
   "execution_count": 2,
   "metadata": {
    "colab": {
     "base_uri": "https://localhost:8080/",
     "height": 34
    },
    "id": "3fICbFg76N7V",
    "outputId": "b28d29f5-a2c6-4387-bc3c-227be21ab499"
   },
   "outputs": [
    {
     "name": "stdout",
     "output_type": "stream",
     "text": [
      "[ 1  4 10 20 25 24 16]\n"
     ]
    }
   ],
   "source": [
    "import numpy as np\n",
    "x=[1,2,3,4]\n",
    "h=[4,3,2,1]\n",
    "y=np.correlate(x,h,\"full\")\n",
    "print(y)"
   ]
  },
  {
   "cell_type": "markdown",
   "metadata": {
    "id": "5nyiUCTO6W3G"
   },
   "source": [
    "# Programming Exercise 02"
   ]
  },
  {
   "cell_type": "markdown",
   "metadata": {
    "id": "C5jxLu-c6YKl"
   },
   "source": [
    "\n",
    "\n",
    "\n",
    "## Determine the autoconvolution of the following signal\n",
    "## \tx(n) = {4,4,4,4} "
   ]
  },
  {
   "cell_type": "code",
   "execution_count": 3,
   "metadata": {
    "colab": {
     "base_uri": "https://localhost:8080/",
     "height": 34
    },
    "id": "yutMYIRE6Uzz",
    "outputId": "a8744618-0214-4b8a-ed83-4db7175dfc9e"
   },
   "outputs": [
    {
     "name": "stdout",
     "output_type": "stream",
     "text": [
      "[16 32 48 64 48 32 16]\n"
     ]
    }
   ],
   "source": [
    "import numpy as np\n",
    "x=[4,4,4,4]\n",
    "y=np.correlate(x,x,\"full\")\n",
    "print(y)"
   ]
  }
 ],
 "metadata": {
  "colab": {
   "collapsed_sections": [],
   "name": "69_BECMPNA_Exp05.ipynb",
   "provenance": []
  },
  "kernelspec": {
   "display_name": "Python 3",
   "language": "python",
   "name": "python3"
  },
  "language_info": {
   "codemirror_mode": {
    "name": "ipython",
    "version": 3
   },
   "file_extension": ".py",
   "mimetype": "text/x-python",
   "name": "python",
   "nbconvert_exporter": "python",
   "pygments_lexer": "ipython3",
   "version": "3.6.6"
  }
 },
 "nbformat": 4,
 "nbformat_minor": 1
}

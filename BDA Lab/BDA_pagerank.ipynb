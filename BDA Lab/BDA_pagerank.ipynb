{
 "cells": [
  {
   "cell_type": "markdown",
   "metadata": {
    "id": "IUb1EGKdAt8Q"
   },
   "source": [
    "## Aim:- To implement page rank algorithm in Python"
   ]
  },
  {
   "cell_type": "markdown",
   "metadata": {
    "id": "DgS_-8bfAy_u"
   },
   "source": [
    "# Theory :\n",
    "---\n",
    "**1. What are the conditions where teleporting is advised?**\n",
    "\n",
    "Answer : \n",
    "\n",
    "Page rank algorithm majorly will have 2 issues, one is dead end other is spider traps. Dead ends are pages where you have no out links and you have no where to go while spider traps are loops where all outlinks are in a same group. To overcome this issue , Google found a way called Teleportation. In conditions like spider trap and dead ends it is advised to use Teleporting. So in few time steps, the surfer will be out of the spider trap\n",
    "\n",
    "---\n",
    "\n",
    "**2. How do you teleport?**\n",
    "\n",
    "Answer :\n",
    "\n",
    "To teleport, at each time step we have two options as following:\n",
    "1. We will have probability beta to follow link to a random \n",
    "2. We will have probability (One minus beta) to jump to random page\n",
    "This solves spider trap problem and we teleport from spider trap.\n",
    "\n",
    "##### To teleport in a deadend, we follow random links where the probability is exact 1.0\n",
    "---\n"
   ]
  },
  {
   "cell_type": "code",
   "execution_count": 1,
   "metadata": {
    "id": "7NyhJ37BeoPW"
   },
   "outputs": [],
   "source": [
    "# Importing required libraries\n",
    "import numpy as np"
   ]
  },
  {
   "cell_type": "code",
   "execution_count": 2,
   "metadata": {
    "colab": {
     "base_uri": "https://localhost:8080/"
    },
    "id": "z9Lp5mxRAgH1",
    "outputId": "3a69e672-d248-4c61-be7f-bb096c7a6cc8"
   },
   "outputs": [
    {
     "name": "stdout",
     "output_type": "stream",
     "text": [
      "Enter total number of nodes >>> 3\n",
      "So Nodes are >>>> \n",
      "Node:1   Node:2   Node:3   \n",
      "Enter total number of outward links for node:1 >>>> \n",
      "2\n",
      "Enter the outward link number 1 >>>> 1\n",
      "Enter the outward link number 2 >>>> 2\n",
      "\n",
      "Enter total number of outward links for node:2 >>>> \n",
      "2\n",
      "Enter the outward link number 1 >>>> 1\n",
      "Enter the outward link number 2 >>>> 3\n",
      "\n",
      "Enter total number of outward links for node:3 >>>> \n",
      "1\n",
      "Enter the outward link number 1 >>>> 3\n",
      "[[0.5, 0.5, 0], [0.5, 0, 0.5], [0, 0, 1.0]]\n"
     ]
    }
   ],
   "source": [
    "# Take Inputs \n",
    "\n",
    "n = int(input(\"Enter total number of nodes >>> \"))\n",
    "print(\"So Nodes are >>>> \")\n",
    "for i in range(n):\n",
    "  print(f\"Node:{i+1}\",end=\"   \")\n",
    "\n",
    "\n",
    "page_mat = []\n",
    "\n",
    "# Matrix for Part 2\n",
    "for_tele = [[0 for j in range(n)] for i in range(n)]\n",
    "for i in range(n):\n",
    "  print(f\"\\nEnter total number of outward links for node:{i+1} >>>> \")\n",
    "  out_l = int(input())\n",
    "  a = [0 for i in range(n)]\n",
    "\n",
    "  for j in range(out_l):\n",
    "    l = int(input(f\"Enter the outward link number {j+1} >>>> \"))\n",
    "    a[l-1] = 1/ int(out_l)\n",
    "    for_tele[l-1][i] = 1\n",
    "  page_mat.append(a)\n",
    "\n",
    "\n",
    "# Main Web link Matrix  \n",
    "print(page_mat)\n",
    "\n",
    "# Our input graph has 3 nodes\n",
    "# node 1 has 2 outward links to itself(1) and node 2\n",
    "# node 2 has 2 outward links to node 1 and node 3\n",
    "# node 3 has 1 outward links to node 3"
   ]
  },
  {
   "cell_type": "code",
   "execution_count": 6,
   "metadata": {
    "id": "abrD3EWpe111"
   },
   "outputs": [],
   "source": [
    "# Transpose the input matrix\n",
    "def transpose_mat(p_m):\n",
    "    return [[p_m[j][i] for j in range(len(p_m))] for i in range(len(p_m[0]))]\n",
    "\n",
    "\n",
    "# Generate the Stocastic Matrix N\n",
    "def generate_M(page_mat):\n",
    "    for i in range(len(page_mat)):\n",
    "        try: \n",
    "            page_mat[i] = list(map(lambda x: round(x/page_mat[i].count(1), 2), page_mat[i]))\n",
    "        except Exception as e:\n",
    "            pass\n",
    "    return transpose_mat(page_mat)\n",
    "\n",
    "# Check convergence to  stop using Epsilon value\n",
    "def stop_check(r1, r2, e):\n",
    "    total = 0\n",
    "    for i, j in zip(r1, r2):\n",
    "        total += (i[0] - j[0])\n",
    "    if total < e:\n",
    "        return True\n",
    "    return False"
   ]
  },
  {
   "cell_type": "code",
   "execution_count": 7,
   "metadata": {
    "id": "FTjD5kGGe5G-"
   },
   "outputs": [],
   "source": [
    "# Simple Page Rank Algorithm\n",
    "\n",
    "def page_rank(page_mat,epsilon, max_iter=100):\n",
    "    stoc_mat_m = generate_M(page_mat)\n",
    "    print(f\"M: {stoc_mat_m}\")\n",
    "    r = transpose_mat([[round(1/len(page_mat), 2)]*len(page_mat)])\n",
    "    print(f\"r: {r}\")\n",
    "\n",
    "    for i in range(max_iter):\n",
    "        new_r = list(map(list, np.matmul(stoc_mat_m, r)))\n",
    "        if stop_check(new_r, r,epsilon):\n",
    "            break\n",
    "        else:\n",
    "            continue\n",
    "    print(f\"Page Ranks: {new_r}\")"
   ]
  },
  {
   "cell_type": "code",
   "execution_count": 8,
   "metadata": {
    "colab": {
     "base_uri": "https://localhost:8080/"
    },
    "id": "H1ujKypCe4rv",
    "outputId": "57eaf58d-e5e2-4cc3-b66e-74921f836925"
   },
   "outputs": [
    {
     "name": "stdout",
     "output_type": "stream",
     "text": [
      "Enter epsilon value >>>> 1\n",
      "M: [[0.5, 0.5, 0.0], [0.5, 0, 0.0], [0, 0.5, 1.0]]\n",
      "r: [[0.33], [0.33], [0.33]]\n",
      "Page Ranks: [[0.33], [0.165], [0.495]]\n"
     ]
    }
   ],
   "source": [
    "# Take Input Epsilon\n",
    "epsilon = int(input(\"Enter epsilon value >>>> \"))\n",
    "\n",
    "# Apply Page rank\n",
    "page_rank(page_mat,epsilon)"
   ]
  },
  {
   "cell_type": "markdown",
   "metadata": {
    "id": "JvX72wfMivze"
   },
   "source": [
    "# **Part 2** - **Teleportation** : Modified Page Rank"
   ]
  },
  {
   "cell_type": "code",
   "execution_count": 9,
   "metadata": {
    "colab": {
     "base_uri": "https://localhost:8080/"
    },
    "id": "vWiNVMxQhmHG",
    "outputId": "68262327-e3f9-47f1-adb9-04c36d03fc3e"
   },
   "outputs": [
    {
     "name": "stdout",
     "output_type": "stream",
     "text": [
      "Enter value of beta >>>> 0.8\n"
     ]
    }
   ],
   "source": [
    "# Take input beta\n",
    "beta = float(input(\"Enter value of beta >>>> \"))"
   ]
  },
  {
   "cell_type": "code",
   "execution_count": 11,
   "metadata": {
    "id": "93VI5F65jCG1"
   },
   "outputs": [],
   "source": [
    "# Main matrix of web pages\n",
    "# print(for_tele)\n",
    "tele_mat = transpose_mat(page_mat)"
   ]
  },
  {
   "cell_type": "code",
   "execution_count": 12,
   "metadata": {
    "colab": {
     "base_uri": "https://localhost:8080/"
    },
    "id": "fo2HD3GYjCDx",
    "outputId": "25a08a79-aec8-4bab-d50d-c16bc9334543"
   },
   "outputs": [
    {
     "name": "stdout",
     "output_type": "stream",
     "text": [
      "[[0.5, 0.5, 0.0], [0.5, 0, 0.0], [0.0, 0.5, 1.0]]\n"
     ]
    }
   ],
   "source": [
    "for i in range(n):\n",
    "  count_one = tele_mat[i].count(1)\n",
    "  for j in range(n):\n",
    "    try:\n",
    "      tele_mat[i][j] /= int(count_one)\n",
    "    except Exception as e:\n",
    "      pass \n",
    "print(tele_mat)"
   ]
  },
  {
   "cell_type": "code",
   "execution_count": 13,
   "metadata": {
    "id": "rr3Uu5xnqkSN"
   },
   "outputs": [],
   "source": [
    "def random_tele (tele_mat,beta):\n",
    "  # Calculating (1-beta)*web_matrix\n",
    "  pt_1 = [[(beta)*tele_mat[i][j] for j in range(n)]for i in range(n)]\n",
    "\n",
    "  # Calculating beta*1byn_mat\n",
    "  onebynmat = [[1/n for j in range(n)] for i in range(n)]\n",
    "  pt_2 = [[(1-beta)*onebynmat[i][j]for j in range(n)] for i in range(n)]\n",
    "  final = np.add(pt_1,pt_2)\n",
    "  return final,np.matmul(final,onebynmat)"
   ]
  },
  {
   "cell_type": "code",
   "execution_count": 18,
   "metadata": {
    "colab": {
     "base_uri": "https://localhost:8080/"
    },
    "id": "wI6F4BvHsH6J",
    "outputId": "a65b0fe7-878a-4489-b141-985213f5b1a5"
   },
   "outputs": [
    {
     "name": "stdout",
     "output_type": "stream",
     "text": [
      "Page ranks after 3 iterations to test >>>  0.22016426666666666 0.15647999999999998 0.6233557333333334\n",
      "Page ranks using convergence of epsilon >>>  0.25866666666666666 0.17866666666666667 0.5626666666666666\n"
     ]
    }
   ],
   "source": [
    "# Finally adding both matrices\n",
    "A_t,r_t = random_tele(tele_mat,beta)\n",
    "\n",
    "# print(\"A\",A)\n",
    "# print(\"r\",r)\n",
    "\n",
    "# Iterating for 3 times\n",
    "r = r_t\n",
    "for i in range(3):\n",
    "  new_r = np.matmul(A_t,r)\n",
    "  r = np.matmul(A_t,new_r)\n",
    "print(\"Page ranks after 3 iterations to test >>> \", r[0][0],r[1][0],r[2][0])\n",
    "\n",
    "# Iterating as per epsilonn\n",
    "for i in range(100):\n",
    "  new_r = np.matmul(A_t,r_t)\n",
    "  r = np.matmul(A_t,new_r)\n",
    "  if stop_check(new_r, r,epsilon):\n",
    "      break\n",
    "  else:\n",
    "      continue\n",
    "print(\"Page ranks using convergence of epsilon >>> \", r[0][0],r[1][0],r[2][0])"
   ]
  }
 ],
 "metadata": {
  "colab": {
   "collapsed_sections": [
    "IUb1EGKdAt8Q"
   ],
   "name": "69_BECMPNA_BDApagerank.ipynb",
   "provenance": []
  },
  "kernelspec": {
   "display_name": "Python 3",
   "language": "python",
   "name": "python3"
  },
  "language_info": {
   "codemirror_mode": {
    "name": "ipython",
    "version": 3
   },
   "file_extension": ".py",
   "mimetype": "text/x-python",
   "name": "python",
   "nbconvert_exporter": "python",
   "pygments_lexer": "ipython3",
   "version": "3.6.6"
  }
 },
 "nbformat": 4,
 "nbformat_minor": 1
}

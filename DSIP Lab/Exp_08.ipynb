{
 "cells": [
  {
   "cell_type": "markdown",
   "metadata": {
    "id": "3X4N5y3oqTwb"
   },
   "source": [
    "#Exp08: Image Enhancement"
   ]
  },
  {
   "cell_type": "code",
   "execution_count": 1,
   "metadata": {
    "id": "mshRX4dZp_pl"
   },
   "outputs": [],
   "source": [
    "import numpy as np\n",
    "import pandas as pd\n",
    "import cv2 as cv \n",
    "from google.colab.patches import cv2_imshow # for image display\n",
    "from skimage import io\n",
    "from PIL import Image \n",
    "import matplotlib.pylab as plt"
   ]
  },
  {
   "cell_type": "code",
   "execution_count": 2,
   "metadata": {
    "colab": {
     "base_uri": "https://localhost:8080/",
     "height": 117
    },
    "id": "Z1u9cF2ZqcrB",
    "outputId": "50e75880-141e-4a42-902b-5cd9591fb4f5"
   },
   "outputs": [
    {
     "data": {
      "image/png": "[encoded data removed]",
      "text/plain": [
       "<PIL.Image.Image image mode=L size=100x100 at 0x7F66B1D36470>"
      ]
     },
     "metadata": {
      "tags": []
     },
     "output_type": "display_data"
    }
   ],
   "source": [
    "url = \"https://media-exp1.licdn.com/dms/image/C4D03AQHVclnH2Ty8uA/profile-displayphoto-shrink_200_200/0?e=1608768000&v=beta&t=UezXrRkR671S3pxc1vbnwrYNSjWsNu4FRbrAoHdRWxE\"\n",
    "image = io.imread(url)\n",
    "gray_image = cv.cvtColor(image, cv.COLOR_BGR2GRAY)\n",
    "gray_image = cv.resize(gray_image,(100,100))\n",
    "cv2_imshow(gray_image)\n",
    "m,n = gray_image.shape\n"
   ]
  },
  {
   "cell_type": "markdown",
   "metadata": {
    "id": "vpXYypMrvLaq"
   },
   "source": [
    "#Image Negative"
   ]
  },
  {
   "cell_type": "code",
   "execution_count": 3,
   "metadata": {
    "colab": {
     "base_uri": "https://localhost:8080/",
     "height": 117
    },
    "id": "mru-pD9EvJWG",
    "outputId": "79de6990-e77a-4d9b-8944-5626a098901c"
   },
   "outputs": [
    {
     "data": {
      "image/png": "[encoded data removed]",
      "text/plain": [
       "<PIL.Image.Image image mode=L size=100x100 at 0x7F66B1E5A518>"
      ]
     },
     "metadata": {
      "tags": []
     },
     "output_type": "display_data"
    }
   ],
   "source": [
    "im2 = 255 - gray_image\n",
    "cv2_imshow(im2)"
   ]
  },
  {
   "cell_type": "markdown",
   "metadata": {
    "id": "xlkx6KcSvO_C"
   },
   "source": [
    "#Thresholding"
   ]
  },
  {
   "cell_type": "code",
   "execution_count": 4,
   "metadata": {
    "colab": {
     "base_uri": "https://localhost:8080/",
     "height": 117
    },
    "id": "ih06AuUjvJY9",
    "outputId": "688dc0a2-dc98-427a-86dc-77285cc9880f"
   },
   "outputs": [
    {
     "data": {
      "image/png": "[encoded data removed]",
      "text/plain": [
       "<PIL.Image.Image image mode=L size=100x100 at 0x7F66B1D36A58>"
      ]
     },
     "metadata": {
      "tags": []
     },
     "output_type": "display_data"
    }
   ],
   "source": [
    "ret,th1 = cv.threshold(gray_image,127,255,cv.THRESH_BINARY)\n",
    "cv2_imshow(th1)\n"
   ]
  },
  {
   "cell_type": "markdown",
   "metadata": {
    "id": "AUkyrBXPvSVQ"
   },
   "source": [
    "#Gray level Slicing : Without Background"
   ]
  },
  {
   "cell_type": "code",
   "execution_count": 5,
   "metadata": {
    "colab": {
     "base_uri": "https://localhost:8080/",
     "height": 117
    },
    "id": "KxG-M8ppvJS9",
    "outputId": "4d5806d9-8757-4af1-fd37-601344c73e6a"
   },
   "outputs": [
    {
     "data": {
      "image/png": "[encoded data removed]",
      "text/plain": [
       "<PIL.Image.Image image mode=L size=100x100 at 0x7F66B1828668>"
      ]
     },
     "metadata": {
      "tags": []
     },
     "output_type": "display_data"
    }
   ],
   "source": [
    "# the lower threshold value \n",
    "T1 = 100\n",
    "  \n",
    "# the upper threshold value \n",
    "T2 = 180 \n",
    "  \n",
    "# create a array of zeros \n",
    "img_thresh_noback = np.zeros((m,n), dtype = int) \n",
    "   \n",
    "for i in range(m): \n",
    "      \n",
    "    for j in range(n): \n",
    "          \n",
    "        if T1 < gray_image[i,j] < T2:  \n",
    "            img_thresh_noback[i,j]= 255\n",
    "        else: \n",
    "            img_thresh_noback[i,j] = 0 \n",
    "  \n",
    "# Convert array to  png image \n",
    "cv.imwrite('Thresh_Back.png', img_thresh_noback) \n",
    "cv2_imshow(img_thresh_noback)"
   ]
  },
  {
   "cell_type": "markdown",
   "metadata": {
    "id": "fuOTNwe1vVmy"
   },
   "source": [
    "#Gray level Slicing : With Background\n",
    "\n"
   ]
  },
  {
   "cell_type": "code",
   "execution_count": 6,
   "metadata": {
    "colab": {
     "base_uri": "https://localhost:8080/",
     "height": 117
    },
    "id": "avRPal5AvWPl",
    "outputId": "5c3fc10a-a1ae-4027-cc14-f1fb3b6cf387"
   },
   "outputs": [
    {
     "data": {
      "image/png": "[encoded data removed]",
      "text/plain": [
       "<PIL.Image.Image image mode=L size=100x100 at 0x7F66B1D36470>"
      ]
     },
     "metadata": {
      "tags": []
     },
     "output_type": "display_data"
    }
   ],
   "source": [
    "# the lower threshold value \n",
    "T1 = 100\n",
    "  \n",
    "# the upper threshold value \n",
    "T2 = 180 \n",
    "  \n",
    "# create a array of zeros \n",
    "img_thresh_back = np.zeros((m,n), dtype = int) \n",
    "   \n",
    "for i in range(m): \n",
    "      \n",
    "    for j in range(n): \n",
    "          \n",
    "        if T1 < gray_image[i,j] < T2:  \n",
    "            img_thresh_back[i,j]= 255\n",
    "        else: \n",
    "            img_thresh_back[i,j] = gray_image[i,j] \n",
    "  \n",
    "# Convert array to  png image \n",
    "cv.imwrite('Thresh_Back.png', img_thresh_back) \n",
    "cv2_imshow(img_thresh_back)"
   ]
  }
 ],
 "metadata": {
  "colab": {
   "collapsed_sections": [],
   "name": "69_BECMPNA_Exp08_DSIP.ipynb",
   "provenance": [],
   "toc_visible": true
  },
  "kernelspec": {
   "display_name": "Python 3",
   "language": "python",
   "name": "python3"
  },
  "language_info": {
   "codemirror_mode": {
    "name": "ipython",
    "version": 3
   },
   "file_extension": ".py",
   "mimetype": "text/x-python",
   "name": "python",
   "nbconvert_exporter": "python",
   "pygments_lexer": "ipython3",
   "version": "3.6.6"
  }
 },
 "nbformat": 4,
 "nbformat_minor": 1
}
